{
 "cells": [
  {
   "cell_type": "markdown",
   "metadata": {},
   "source": [
    "# 1. Introduction\n",
    "\n",
    "#### APIs\n",
    "\n",
    "By definition, an application programming interface, or API, is a set of functions and procedures that allow applications access to features or data of a service.  The basic idea of an API is it provides a portal for a user to access data from a server or database in a controlled manner. \n",
    "APIs have a wide range of functions, from serving as interfaces between an application and an operating system, to communication between websites and companies, to even storage of data.\n",
    "There’s probably a fancier way to describe it and you are encouraged to learn more about it if this interests you.\n",
    "\n",
    "In this project we will be interacting with an API to retrieve data and perform calculations on that data once is asynchronously returned to us. \n",
    "\n",
    "#### Requests package\n",
    "\n",
    "Requests is a python library designed to interface with APIs.  Take a look at this video and learn about how you can use this package. \n",
    "\n",
    "Read about the requests package on their documentation site here.  Directions on installing the requests package can be found here. Be sure to use a virtual environment (instructions can be found in Project #2).\n",
    "\n",
    "#### Poké API\n",
    "\n",
    "https://pokeapi.co/\n",
    "Now that you’ve gotten the requests library installed, lets explore an API.  We’ll start with a beautifully simple Poké API.  Take some time to look at it and read their documentation. A big part of a developer’s job is learning to read/write documentation. Remember: you’re not coding for yourself, you’re teaching people how to maintain and read your code. Nobody wants to be handed down messy code. \n"
   ]
  },
  {
   "cell_type": "code",
   "execution_count": null,
   "metadata": {},
   "outputs": [],
   "source": [
    "import requests as req"
   ]
  },
  {
   "cell_type": "markdown",
   "metadata": {},
   "source": [
    "## Task 1:\n",
    "#### Start a new notebook and successfully contact the Pokemon API and perform the following individual API calls\n",
    "* Get the original 151 Pokemon and list their names. "
   ]
  },
  {
   "cell_type": "code",
   "execution_count": null,
   "metadata": {},
   "outputs": [],
   "source": []
  },
  {
   "cell_type": "markdown",
   "metadata": {},
   "source": [
    "* Get a count for all Pokemon available on the API, and sort them in a dictionary organized by the letter they start with. Eg. { A: [‘all pokemon with names starting with A’] }\n"
   ]
  },
  {
   "cell_type": "code",
   "execution_count": null,
   "metadata": {},
   "outputs": [],
   "source": []
  },
  {
   "cell_type": "markdown",
   "metadata": {},
   "source": [
    "* Find a way to get your top 3 pokemon and display their image on your notebook. Bonus: Make it into a function that can display any Pokemon given its name.\n"
   ]
  },
  {
   "cell_type": "code",
   "execution_count": null,
   "metadata": {},
   "outputs": [],
   "source": []
  },
  {
   "cell_type": "markdown",
   "metadata": {},
   "source": [
    "* Get all “dragon” type pokemon and list them."
   ]
  },
  {
   "cell_type": "code",
   "execution_count": null,
   "metadata": {},
   "outputs": [],
   "source": []
  },
  {
   "cell_type": "markdown",
   "metadata": {},
   "source": [
    "\n",
    "#### Bonus: handle bad responses, learn about status codes and only perform your logic if you get a “good” response code. If you get a “bad” response alert the user. \n",
    "\n",
    "* 200 OK, 201 Created, 202 Accepted: Everything went awesome.\n",
    "\n",
    "* 400 Bad Request:Your request is invalid and/or not formed properly. You need to reformulate your request.\n",
    "\n",
    "* 401 Not Authorized: Either you need to provide authentication credentials, or the credentials provided aren't valid.\n",
    "\n",
    "* 403 Forbidden: We understand your request, but are refusing to fulfill it. An accompanying error message should explain why.\n",
    "\n",
    "* 404 Not Found: Either you're requesting an invalid URI or the resource in question doesn't exist (ex: no such user).\n",
    "\n",
    "* 500 Internal Server Error: We did something wrong. We'll be notified and we'll look into it.\n",
    "\n",
    "* 502 Bad Gateway: Returned if Intervals is down or being upgraded, or if the system is overloaded and API requests are being throttled.\n",
    "\n",
    "* 503 Service Unavailable: Usually as a result of suspension, we are refusing to process this request. You *may* try again later."
   ]
  },
  {
   "cell_type": "code",
   "execution_count": null,
   "metadata": {},
   "outputs": [],
   "source": [
    "# do a basic try/except or do a raise ValueError based on the value returned."
   ]
  },
  {
   "cell_type": "markdown",
   "metadata": {},
   "source": [
    "## Task 2\n",
    "#### Great this should give you a little background on how APIs work. Now let’s use an API that’s a bit more complex and more biology related.  Use the requests package to do the following tasks in your jupyter notebooks.\n",
    "\n",
    "* Write a query that requests a json file for the first 10 human proteins (Homo sapiens) that have an amino acid length between 3-14 in https://www.ebi.ac.uk/proteins/api/doc/index.html.  Grab the protein name, and the protein sequence.\n"
   ]
  },
  {
   "cell_type": "code",
   "execution_count": null,
   "metadata": {},
   "outputs": [],
   "source": []
  },
  {
   "cell_type": "markdown",
   "metadata": {},
   "source": [
    "##### to get names and sequence of 1 entry..."
   ]
  },
  {
   "cell_type": "code",
   "execution_count": null,
   "metadata": {},
   "outputs": [],
   "source": []
  },
  {
   "cell_type": "markdown",
   "metadata": {},
   "source": [
    "##### to get it out as a function"
   ]
  },
  {
   "cell_type": "code",
   "execution_count": null,
   "metadata": {},
   "outputs": [],
   "source": []
  },
  {
   "cell_type": "markdown",
   "metadata": {},
   "source": [
    "* Write a query that requests a json file for the human ACVR1 gene and return the protein name, sequence and length of protein sequence. Iterate through the sequence and count the occurrence of each amino acid."
   ]
  },
  {
   "cell_type": "code",
   "execution_count": null,
   "metadata": {},
   "outputs": [],
   "source": []
  },
  {
   "cell_type": "markdown",
   "metadata": {},
   "source": [
    "* Write a query that finds articles relating to the protein ACE2.  Parse the output and return the first 10 articles that have “coronavirus” in its title."
   ]
  },
  {
   "cell_type": "code",
   "execution_count": null,
   "metadata": {},
   "outputs": [],
   "source": []
  }
 ],
 "metadata": {
  "kernelspec": {
   "display_name": "Python 3",
   "language": "python",
   "name": "python3"
  },
  "language_info": {
   "codemirror_mode": {
    "name": "ipython",
    "version": 3
   },
   "file_extension": ".py",
   "mimetype": "text/x-python",
   "name": "python",
   "nbconvert_exporter": "python",
   "pygments_lexer": "ipython3",
   "version": "3.8.2"
  }
 },
 "nbformat": 4,
 "nbformat_minor": 4
}
