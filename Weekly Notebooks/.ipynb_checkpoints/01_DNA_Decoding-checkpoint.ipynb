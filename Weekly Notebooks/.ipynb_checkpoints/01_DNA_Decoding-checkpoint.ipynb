{
 "cells": [
  {
   "cell_type": "markdown",
   "metadata": {},
   "source": [
    "# Bioinformatics Project #1\n",
    "## 1. Introduction\n",
    "\n",
    "At the heart of every living organism is DNA (deoxyribonucleic acid). It is double stranded and consists of 4 nucleotides, Adenine, Thymine, Cytosine, and Guanine (ATCG).  One strand runs from 5’ to 3’, the other 3’ to 5’, this is based on the orientation of the sugar/phosphate backbone.  Adenine and Guanine are purines, Thymine and Cytosine are pyrimidines.  Adenine always pairs with Thymine, and Guanine always pairs with Cytosine, vice-versa. <br> <br>\n",
    "\n",
    "Using python, you will be replicating the central dogma of Biology by taking a strand of DNA, and following it through replication, transcription, and translation.  Python skills will involve string manipulation, looping and basic calculations. <br>\n"
   ]
  },
  {
   "cell_type": "code",
   "execution_count": null,
   "metadata": {},
   "outputs": [],
   "source": []
  },
  {
   "cell_type": "code",
   "execution_count": null,
   "metadata": {},
   "outputs": [],
   "source": []
  },
  {
   "cell_type": "code",
   "execution_count": null,
   "metadata": {},
   "outputs": [],
   "source": []
  },
  {
   "cell_type": "markdown",
   "metadata": {},
   "source": [
    "## 2. Counting DNA Base Pairs\n",
    "\n",
    "Given this 99 base pair 3’ strand of DNA, count the number of A, T, C, and G’s.  Return the counts as well as the total percentage of the nucleic acids. <br>\n",
    "\n",
    "Hint: you can store counts of items using a dictionary. `{‘A’:0,’T’:0...}`<br>\n",
    "\n",
    "`3’-TACTCTCGTTCTTGCAGCTTGTCAGTACTTTCAGAATCATGGTGTGCATGGTAGAATGACTCTTATAACGAACTTCGACATGGCAATAACCCCCCGATT-5’`\n"
   ]
  },
  {
   "cell_type": "code",
   "execution_count": null,
   "metadata": {},
   "outputs": [],
   "source": []
  },
  {
   "cell_type": "code",
   "execution_count": null,
   "metadata": {},
   "outputs": [],
   "source": []
  },
  {
   "cell_type": "code",
   "execution_count": null,
   "metadata": {},
   "outputs": [],
   "source": []
  },
  {
   "cell_type": "markdown",
   "metadata": {},
   "source": [
    "## 3. Replication: Creating Complement DNA strands <br>\n",
    "\n",
    "Given the above 99 base pair template strand (3’ to 5’) of DNA, return the complementary coding strand. For example, if the template strand has an A, then your coding strand at the same position will be a T.\n"
   ]
  },
  {
   "cell_type": "code",
   "execution_count": null,
   "metadata": {},
   "outputs": [],
   "source": []
  },
  {
   "cell_type": "code",
   "execution_count": null,
   "metadata": {},
   "outputs": [],
   "source": []
  },
  {
   "cell_type": "code",
   "execution_count": null,
   "metadata": {},
   "outputs": [],
   "source": []
  },
  {
   "cell_type": "markdown",
   "metadata": {},
   "source": [
    "## 4. Transcription: Turning DNA to mRNA sequences \n",
    "\n",
    "RNA polymerase reads DNA from 3’ to 5’  direction. The mRNA created conversely is 5’ to 3’, the sequence should be the same as the coding strand except Thymine is replaced by Uracil. Return the transcribed mRNA fragment from the template strand of DNA.  Remember, A is paired with Uracil in mRNA. \n"
   ]
  },
  {
   "cell_type": "code",
   "execution_count": null,
   "metadata": {},
   "outputs": [],
   "source": []
  },
  {
   "cell_type": "code",
   "execution_count": null,
   "metadata": {},
   "outputs": [],
   "source": []
  },
  {
   "cell_type": "code",
   "execution_count": null,
   "metadata": {},
   "outputs": [],
   "source": []
  },
  {
   "cell_type": "markdown",
   "metadata": {},
   "source": [
    "## 5. Translation: Converting mRNA sequences to proteins\n",
    "\n",
    "Protein translation occurs when ribosomes attach to the mRNA and bring in tRNA.  The tRNA has an amino acid attached to the protein.  These amino acids are fused together into a polypeptide to create a protein.  tRNA reads mRNA with a triplet coding system.  Using the below chart, Translate the mRNA into an amino acid chain.\n"
   ]
  },
  {
   "cell_type": "code",
   "execution_count": null,
   "metadata": {},
   "outputs": [],
   "source": []
  },
  {
   "cell_type": "code",
   "execution_count": null,
   "metadata": {},
   "outputs": [],
   "source": []
  },
  {
   "cell_type": "code",
   "execution_count": null,
   "metadata": {},
   "outputs": [],
   "source": []
  }
 ],
 "metadata": {
  "kernelspec": {
   "display_name": "Python 3",
   "language": "python",
   "name": "python3"
  },
  "language_info": {
   "codemirror_mode": {
    "name": "ipython",
    "version": 3
   },
   "file_extension": ".py",
   "mimetype": "text/x-python",
   "name": "python",
   "nbconvert_exporter": "python",
   "pygments_lexer": "ipython3",
   "version": "3.8.2"
  }
 },
 "nbformat": 4,
 "nbformat_minor": 4
}
