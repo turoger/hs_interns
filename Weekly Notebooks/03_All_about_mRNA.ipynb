{
 "cells": [
  {
   "cell_type": "markdown",
   "metadata": {},
   "source": [
    "# 1. Introduction\n",
    "\n",
    "In the nucleus, mRNA transcription is done by an enzyme called RNA polymerase (RNAP).  RNAP breaks the hydrogen bonds joining the base pairs of each strand of DNA.  RNAP then creates a pre-mRNA with the DNA template strand.  After several RNA nucleotides are conjugated together, the first separated complementary DNA bases bond back together.\n",
    "\n",
    "It is unclear whether an entire substring of DNA is transcribed into RNA then translated into peptides one at a time.  We know that a pre-mRNA is chopped into introns and exons; segments of mRNA that are thrown out, or kept.  The introns are tossed while exons are glued together sequentially to make the final mRNA.  The process of cutting and pasting is called splicing and is facilitated by RNA and proteins called a spliceosome.  \n",
    "\n",
    "A pre-mRNA sequence can undergo a process called “alternative splicing”, where a single pre-mRNA strand can be cut in different ways, with different fragments identified as introns and exons, in order to generate many different protein sequences from a single strand of mRNA.  This means a single pre-mRNA strand can yield multiple different protein fragments!\n",
    "\n",
    "Using python, you will be identifying the pitfalls of reverse translation, mRNA alternative splicing, alignment DNA reads, and finding protein motifs.\n",
    "\n",
    "**Note, while answers are provided, rarely when you’re working with biology will the answers be given to you.  Please work through the examples, and think about other examples that could be run through your code.  Check if those examples work too (and thereby checking your own understanding of the topic), if not, you’re still not done answering the question!  Do your best to generalize your code.  Avoid “hard-coding” your code to get the right answer. \n"
   ]
  },
  {
   "cell_type": "markdown",
   "metadata": {},
   "source": [
    "# 2. Pitfalls of Reverse Translation\n",
    "\n",
    "When researchers find a new protein, they identify the protein sequences using mass spectrometry.  Once a protein sequence is identified, they want to infer the mRNA strand that makes the protein.  This way, they can find the gene that is associated with the protein’s expression.  However, while a protein sequence can be reverse translated into a unique mRNA sequence, reverse translation yields thousands upon thousands of possible mRNA coding sequences as most amino acid sequences correspond to more than one set of codons.\n",
    "\n",
    "Given this 33 amino acid protein, return the potential number of mRNA sequences from the protein, then infer all possible iterations of  99 base pair mRNA strands that can result in the amino acid protein.    Ignore the potential of alternative splicing.\n"
   ]
  },
  {
   "cell_type": "markdown",
   "metadata": {},
   "source": [
    "`TDAPSRWICTLLDTHWFQSTSECMLQTEHDELN`\n",
    "\n",
    "Example:\n",
    "`GTECE`\n",
    "G - Glycine, T - Threonine, E - Glutamate, C - Cysteine <br>\n",
    "G has 4, T has 4, E has 2 and C has 2 possible outputs <br>\n",
    "Total possible combinations: 4 * 4 * 2 * 2 = 64 <br>\n",
    "Example mRNA strand: GGU ACU GAA UGU GAG <br>\n"
   ]
  },
  {
   "cell_type": "code",
   "execution_count": null,
   "metadata": {},
   "outputs": [],
   "source": [
    "protein_str = 'TDAPSRWICTLLDTHWFQSTSECMLQTEHDELN'"
   ]
  },
  {
   "cell_type": "code",
   "execution_count": null,
   "metadata": {},
   "outputs": [],
   "source": [
    "# translations of amino acids\n",
    "translation = {\n",
    "    'UUU':'PHE','UUC':'PHE',\n",
    "    'UUA':'LEU','UUG':'LEU','CUU':'LEU','CUC':'LEU','CUA':'LEU','CUG':'LEU',\n",
    "    'AUU':'ILE','AUC':'ILE','AUA':'ILE',\n",
    "    'AUG':'MET',\n",
    "    'GUU':'VAL','GUC':'VAL','GUA':'VAL','GUG':'VAL',\n",
    "    'UCU':'SER','UCC':'SER','UCA':'SER','UCG':'SER',\n",
    "    'CCU':'PRO','CCC':'PRO','CCA':'PRO','CCG':'PRO',\n",
    "    'ACU':'THR','ACC':'THR','ACA':'THR','ACG':'THR',\n",
    "    'GCU':'ALA','GCC':'ALA','GCA':'ALA','GCG':'ALA',\n",
    "    'UAU':'TYR','UAC':'TYR',\n",
    "    'UAA':'STOP','UAG':'STOP','UGA':'STOP',\n",
    "    'CAU':'HIS','CAC':'HIS',\n",
    "    'CAA':'GLN','CAG':'GLN',\n",
    "    'AUA':'ASN','AAC':'ASN',\n",
    "    'AAA':'LYS','AAG':'LYS',\n",
    "    'GAU':'ASP','GAC':'ASP','AAU':'ASP',\n",
    "    'GAA':'GLU','GAG':'GLU',\n",
    "    'UGU':'CYS','UGC':'CYS',\n",
    "    'UGG':'TRP',\n",
    "    'CGU':'ARG','CGC':'ARG','CGA':'ARG','CGG':'ARG',\n",
    "    'AGU':'SER','AGC':'SER',\n",
    "    'AGA':'ARG','AGG':'ARG',\n",
    "    'GGU':'GLY','GGC':'GLY','GGA':'GLY','GGG':'GLY'\n",
    "}"
   ]
  },
  {
   "cell_type": "code",
   "execution_count": null,
   "metadata": {},
   "outputs": [],
   "source": [
    "AAshort = {\n",
    "    'ALA':'A','ARG':'R','ASN':'N','ASP':'D','CYS':'C',\n",
    "    'GLU':'E','GLN':'Q','GLY':'G','HIS':'H','ILE':'I',\n",
    "    'LEU':'L','LYS':'K','MET':'M','PHE':'F','PRO':'P',\n",
    "    'SER':'S','THR':'T','TRP':'W','TYR':'Y','VAL':'V',\n",
    "    'STOP':'-'\n",
    "    }"
   ]
  },
  {
   "cell_type": "code",
   "execution_count": null,
   "metadata": {},
   "outputs": [],
   "source": [
    "# you should make a dictionary of amino acid occurence, then you can multiply them to get your answer."
   ]
  },
  {
   "cell_type": "code",
   "execution_count": null,
   "metadata": {},
   "outputs": [],
   "source": [
    "# think about creating a dictionary of single to three letter code. (reverse the above)"
   ]
  },
  {
   "cell_type": "code",
   "execution_count": null,
   "metadata": {},
   "outputs": [],
   "source": []
  },
  {
   "cell_type": "code",
   "execution_count": null,
   "metadata": {},
   "outputs": [],
   "source": []
  },
  {
   "cell_type": "markdown",
   "metadata": {},
   "source": [
    "#### How many possible first four combo's?"
   ]
  },
  {
   "cell_type": "code",
   "execution_count": null,
   "metadata": {},
   "outputs": [],
   "source": [
    "# create a reverse dictionary where code is the dict and AA is the key.\n",
    "# this would look like {'PHE':['UUU','UUC']}\n",
    "# then you can make all combinations of it."
   ]
  },
  {
   "cell_type": "code",
   "execution_count": null,
   "metadata": {},
   "outputs": [],
   "source": []
  },
  {
   "cell_type": "code",
   "execution_count": null,
   "metadata": {},
   "outputs": [],
   "source": []
  },
  {
   "cell_type": "markdown",
   "metadata": {},
   "source": [
    "#### Two different ways to do it.\n",
    "1. Through list comprehension\n",
    "2. Through itertools product."
   ]
  },
  {
   "cell_type": "markdown",
   "metadata": {},
   "source": [
    "# 3. Alternative Splicing\n",
    "\n",
    "Alternative splicing is the process in which introns in the pre-mRNA are removed and the remaining exon sequences are pasted together.\n",
    "\n",
    "Given the following  DNA coding sequence, return the pre-mRNA sequence.  Next remove the introns for each set and return the corresponding mRNA and its amino acid sequences. Use '-' for stop.\n",
    "\n",
    "`'TACTCTCGTTCTTGCAGCTTGTCAGTACTTTCAGAATCATGGTGTGCATGGTAGAATGACTCTTATAACGAACTTCGACATGGCAATAACCCCCCGATTAATGGCACTTTTTTACTTTTGTCCTTGAGAAGAGGAGACGTCAGTGCAGATATCTTTAATGTGGTAATTGGAAGGATTCTTGGCCCTCCACCCTTAGAC'`\n",
    "\n",
    "INTRON SET 1: <br>\n",
    "`‘CGTTCTTGC’` <br>\n",
    "`‘TGTCCTTGAGAAGAGGAG’` <br>\n",
    "`‘TATAACGAACTTCGACATGGCAAT’` <br>\n",
    "\n",
    "INTRON SET 2: <br>\n",
    "`‘CTTTCAGAATCATGGTGTGCATGGTAGAATGACTC’` <br>\n",
    "`‘CCCCGATTAATGGCACTT’` <br>\n",
    "`‘CCCTCCACCCTTA’` <br>\n"
   ]
  },
  {
   "cell_type": "code",
   "execution_count": null,
   "metadata": {},
   "outputs": [],
   "source": [
    "dna = 'TACTCTCGTTCTTGCAGCTTGTCAGTACTTTCAGAATCATGGTGTGCATGGTAGAATGACTCTTATAACGAACTTCGACATGGCAATAACCCCCCGATTAATGGCACTTTTTTACTTTTGTCCTTGAGAAGAGGAGACGTCAGTGCAGATATCTTTAATGTGGTAATTGGAAGGATTCTTGGCCCTCCACCCTTAGAC'\n",
    "intron01 = ['CGTTCTTGC','TGTCCTTGAGAAGAGGAG','TATAACGAACTTCGACATGGCAAT']\n",
    "intron02 = ['CTTTCAGAATCATGGTGTGCATGGTAGAATGACTC','CCCCGATTAATGGCACTT','CCCTCCACCCTTA']"
   ]
  },
  {
   "cell_type": "code",
   "execution_count": null,
   "metadata": {},
   "outputs": [],
   "source": [
    "# Write a function that removes introns from the host\n",
    "# Then write a function that turns dna to rna by replacing T's with U's\n",
    "# Then write a function to translate from rna to protein using triplicate sequence"
   ]
  },
  {
   "cell_type": "code",
   "execution_count": null,
   "metadata": {},
   "outputs": [],
   "source": []
  },
  {
   "cell_type": "code",
   "execution_count": null,
   "metadata": {},
   "outputs": [],
   "source": []
  },
  {
   "cell_type": "markdown",
   "metadata": {},
   "source": [
    "# 4. DNA Alignment Round 2\n",
    "\n",
    "Determining an organism's complete genome is a central theme of bioinformatics.  It is impossible to sequence the entire genome in one go, therefore genomes are sequenced piecewise from much smaller snippets of DNA called reads.  Once multiple collection of reads are generated from an organism's DNA, the desired genome from these small pieces of DNA are reconstructed. This process is called fragment assembly.\n",
    "\n",
    "Given the following collection of strings, a larger super string will contain every one of the smaller strings.  The shortest possible superstring over a collection of reads serves as the most likely DNA construct.  The data should have only one unique way to reconstruct the DNA by piecing together pairs of reads that overlap by half their length.\n",
    "\n",
    "Sequences:\n",
    "\n",
    "`TACTCTCGTTCTTGCAGCTT` <br>\n",
    "`GTCAGTACTTTCAGAATCAT` <br>\n",
    "`GGTGTGCATGGTAGAATGAC` <br>\n",
    "`TCTTATAACGAACTTCGACA` <br>\n",
    "`TGGCAATACCCCCCGATTAA` <br>\n",
    "`TGGCACTTTTTTACTTTTGT` <br>\n",
    "`CCTTGAGAAGAGGAGACGTC` <br>\n",
    "`AGTGCAGATATCTTTAATGC` <br>\n",
    "`CTTGCAGCTTGTCAGTACTT` <br>\n",
    "`TCAGAATCATGGTGTGCATG` <br>\n",
    "`GTAGAATGACTCTTATAACG` <br>\n",
    "`AACTTCGACATGGCAATACC` <br>\n",
    "`CCCCGATTAATGGCACTTTT` <br>\n",
    "`TTACTTTTGTCCTTGAGAAG` <br>\n",
    "`AGGAGACGTCAGTGCAGATA` <br>\n"
   ]
  },
  {
   "cell_type": "code",
   "execution_count": null,
   "metadata": {},
   "outputs": [],
   "source": [
    "a = 'TACTCTCGTTCTTGCAGCTT'\n",
    "b = 'GTCAGTACTTTCAGAATCAT'\n",
    "c = 'GGTGTGCATGGTAGAATGAC'\n",
    "d = 'TCTTATAACGAACTTCGACA'\n",
    "e = 'TGGCAATACCCCCCGATTAA'\n",
    "f = 'TGGCACTTTTTTACTTTTGT'\n",
    "g = 'CCTTGAGAAGAGGAGACGTC'\n",
    "h = 'AGTGCAGATATCTTTAATGC'\n",
    "i = 'CTTGCAGCTTGTCAGTACTT'\n",
    "j = 'TCAGAATCATGGTGTGCATG'\n",
    "k = 'GTAGAATGACTCTTATAACG'\n",
    "l = 'AACTTCGACATGGCAATACC'\n",
    "m = 'CCCCGATTAATGGCACTTTT'\n",
    "n = 'TTACTTTTGTCCTTGAGAAG'\n",
    "o = 'AGGAGACGTCAGTGCAGATA'"
   ]
  },
  {
   "cell_type": "code",
   "execution_count": null,
   "metadata": {},
   "outputs": [],
   "source": [
    "import itertools as it\n",
    "combos = list(it.combinations([a,b,c,d,e,f,g,h,i,j,k,l,m,n,o],2)) # yields combinations"
   ]
  },
  {
   "cell_type": "code",
   "execution_count": null,
   "metadata": {},
   "outputs": [],
   "source": [
    "# write a function to get combinations, return will be a list of tuples"
   ]
  },
  {
   "cell_type": "code",
   "execution_count": null,
   "metadata": {},
   "outputs": [],
   "source": [
    "# write a function that breaks down a string by how long you want it to be (like previous assignment)"
   ]
  },
  {
   "cell_type": "code",
   "execution_count": null,
   "metadata": {},
   "outputs": [],
   "source": [
    "# create function that checks overlap between two strings, Overlap must be at ends OF BOTH strings\n",
    "# return tuple in correct order of overlap"
   ]
  },
  {
   "cell_type": "code",
   "execution_count": null,
   "metadata": {},
   "outputs": [],
   "source": [
    "# write a function that sets up the strings above in the right order"
   ]
  },
  {
   "cell_type": "code",
   "execution_count": null,
   "metadata": {},
   "outputs": [],
   "source": [
    "# write a function to combine the strings to create new string"
   ]
  },
  {
   "cell_type": "code",
   "execution_count": null,
   "metadata": {},
   "outputs": [],
   "source": [
    "# combine all the functions together to combine a string\n",
    "# use list comprehension or for loop to do it for all sequences.\n",
    "# HINT: Running the function you get different lengths, from 30 to 37. Longer length means shorter overlap, so restrict\n",
    "# to the shortest length!!"
   ]
  },
  {
   "cell_type": "code",
   "execution_count": null,
   "metadata": {},
   "outputs": [],
   "source": []
  },
  {
   "cell_type": "code",
   "execution_count": null,
   "metadata": {},
   "outputs": [],
   "source": []
  },
  {
   "cell_type": "markdown",
   "metadata": {},
   "source": [
    "# 5. Finding Glycosylated Protein Motifs (future)\n",
    "\n",
    "http://rosalind.info/problems/mprt/\n",
    "Just like DNA have motif’s, proteins also have motifs (also known as blocks, signatures, fingerprints etc).  Protein motifs are evolutionarily conserved, which means that they don’t change very much between species.\n",
    "\n",
    "Much is known about proteins and data about them are stored in many different freely accessible databases. One of these databases is UniPro, which provides protein annotations on function description, domain structure and post-translational modifications. \n",
    "\n",
    "### A. Name that protein\n",
    "Given the following protein names, 1. look up the protein on Uniprot and find proteins possessing the N-glycosylation motif, 2. Output those access ID’s followed by the location in the protein string where the motif can be found. \n",
    "\n",
    "### B. Protein motifs\n",
    "Given the protein names, return a protein string that is represented by its shorthand notation.  For example [TY] means ‘either Threonine or Tyrosine’ and {W} means ‘all amino acids except for Tryptophan’.\n"
   ]
  },
  {
   "cell_type": "code",
   "execution_count": null,
   "metadata": {},
   "outputs": [],
   "source": []
  },
  {
   "cell_type": "code",
   "execution_count": null,
   "metadata": {},
   "outputs": [],
   "source": []
  }
 ],
 "metadata": {
  "kernelspec": {
   "display_name": "Python 3",
   "language": "python",
   "name": "python3"
  },
  "language_info": {
   "codemirror_mode": {
    "name": "ipython",
    "version": 3
   },
   "file_extension": ".py",
   "mimetype": "text/x-python",
   "name": "python",
   "nbconvert_exporter": "python",
   "pygments_lexer": "ipython3",
   "version": "3.8.2"
  }
 },
 "nbformat": 4,
 "nbformat_minor": 4
}
