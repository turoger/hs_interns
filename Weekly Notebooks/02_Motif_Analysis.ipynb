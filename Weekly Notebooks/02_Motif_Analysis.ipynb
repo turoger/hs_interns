{
 "cells": [
  {
   "cell_type": "markdown",
   "metadata": {},
   "source": [
    "# 1. Introduction\n",
    "\n",
    "Identifying repeating sequences (motifs) in DNA are important for many things in biology.  Certain proteins, like restriction enzymes isolated from bacteria, identify places in DNA to cut.  This allows biologists to manipulate and insert new DNA fragments into plasmids (circular bacterial DNA) which are transfected (forced into) into a bacterial host to engineer and produce proteins in the lab.  In humans, proteins like transcription factors bind to promoter regions (a motif) to control the expression of its target gene. <br>\n",
    "\n",
    "DNA motifs are not only important for bench scientists.  Identification of consensus sequences , the most commonly occurring base pair at each location given strands of DNA,  help us build hypotheses about how mutations different from consensus can improve or be detrimental to an organism’s fitness. <br>\n",
    "\n",
    "Using python, you will be identifying motif sites, consensus sequences and mutations given strands of DNA.   Python skills will involve string manipulation, indexing and looping. <br>\n"
   ]
  },
  {
   "cell_type": "markdown",
   "metadata": {},
   "source": [
    "# 2. Finding a motif in DNA strand\n",
    "\n",
    "Given this 99 base pair 3’ strand of DNA, find the start locations of each of the following motifs at the bottom.  Note, there can be multiple locations that host the motifs, and remember python indexing starts at 0.\n",
    "\n",
    "`3’-TACTCTCGTTCTTGCAGCTTGTCAGTACTTTCAGAATCATGGTGTGCATGGTAGAATGACTCTTATAACGAACTTCGACATGGCAATAACCCCCCGATT-5’`\n",
    "\n",
    "#### Motifs\n",
    "1. `TCGA`\n",
    "2. `AAT`\n",
    "3. `TT`\n",
    "\n",
    "Example: motif `CCCCCC` occurs once at index 89 of the above DNA strand."
   ]
  },
  {
   "cell_type": "code",
   "execution_count": null,
   "metadata": {},
   "outputs": [],
   "source": []
  },
  {
   "cell_type": "code",
   "execution_count": null,
   "metadata": {},
   "outputs": [],
   "source": []
  },
  {
   "cell_type": "code",
   "execution_count": null,
   "metadata": {},
   "outputs": [],
   "source": []
  },
  {
   "cell_type": "markdown",
   "metadata": {},
   "source": [
    "# 3. Finding Common Overlapping Sequences between DNA strands\n",
    "Given these 99 base pair strands of DNA, return the longest sequence of overlap(s) between them. <br> <br>\n",
    "`3’-TACTCTCGTTCTTGCAGCTTGTCAGTACTTTCAGAATCATGGTGTGCATGGTAGAATGACTCTTATAACGAACTTCGACATGGCAATAACCCCCCGATT-5’` <br>\n",
    "`3'-AATGGCACTTTTTTACTTTTGTCCTTGAGAAGAGGAGACGTCAGTGCAGATATCTTTAATGTGGTAATTGGAAGGATTCTTGGCCCTCCACCCTTAGAC-5'` <br>\n",
    "`3'-AGTGTATACTCTTCTATAAACGAGCTATTAGTTATGACATCCGAAGATTCAAAAAGGTGAGCGAATTTGGCCGATCCGAAAAGACGGACTTCAAAGTTA-5'` <br>"
   ]
  },
  {
   "cell_type": "code",
   "execution_count": null,
   "metadata": {},
   "outputs": [],
   "source": []
  },
  {
   "cell_type": "code",
   "execution_count": null,
   "metadata": {},
   "outputs": [],
   "source": []
  },
  {
   "cell_type": "code",
   "execution_count": null,
   "metadata": {},
   "outputs": [],
   "source": []
  },
  {
   "cell_type": "markdown",
   "metadata": {},
   "source": [
    "# 4. Finding consensus sequence\n",
    "A consensus sequence is a DNA sequence of the most occuring nucleotide at a given position. Given the following five sequences, return a sequence with the most commonly occuring nucleotide at each given position. <br>\n",
    "For example: the most common nucleotide at position 0 is A because it occurs twice.\n",
    "\n",
    "`CCTGACGACAGTTGCGCGTCCGTATCAAAATCTTCTTAATAAGCCCCC` <br>\n",
    "`GTTACTGTTGGTTGAAGAGCCCAGAACGGATTGGCCAGATGTACAATT` <br>\n",
    "`ATATCACTTAATGACTTTTGGGTCACGGTGTGTTACCTTACAGGAATT` <br>\n",
    "`AGACCGTCCATTAATTTCCCTTGCATATATATTGCGTTTTTTTGTCTT` <br>\n",
    "`TTTTATCCGCTTACTTAGATAAAAGTGACATAGCTTCTTACCGAAACA` <br>"
   ]
  },
  {
   "cell_type": "code",
   "execution_count": null,
   "metadata": {},
   "outputs": [],
   "source": []
  },
  {
   "cell_type": "code",
   "execution_count": null,
   "metadata": {},
   "outputs": [],
   "source": []
  },
  {
   "cell_type": "code",
   "execution_count": null,
   "metadata": {},
   "outputs": [],
   "source": []
  },
  {
   "cell_type": "markdown",
   "metadata": {},
   "source": [
    "# 5. Making a directed graph\n",
    "A directed graph is a way to represent knowledge.  Nodes in a graph represents entities, and edges represent an action.  An example of an item in a directed graph is 'Gene Expresses Protein', where Gene and Protein are nodes, and Expresses is an edge. When combined at a large scale, you create a network, or graph of interconnected entities. <br>\n",
    "\n",
    "Here you will created a very basic directed graph using overlapping DNA sequences.  Using similar techniques to identify longest shared patterns, given these four sequences, identify which strands of DNA ends overlap. Note, all overlaps are <br> <br> \n",
    "For example, given these three sequence: <br>\n",
    "\\>SRA_1111 <br>\n",
    "AAATGCCC <br>\n",
    "\\>SRA_2222 <br>\n",
    "ATCGTAAA <br>\n",
    "\\>SRA_3333 <br>\n",
    "CCCTGTTT <br><br>\n",
    "Your output should be: <br>\n",
    "SRA_2222    SRA_1111 <br>\n",
    "SRA_1111    SRA_3333\n"
   ]
  },
  {
   "cell_type": "markdown",
   "metadata": {},
   "source": [
    "#### Sample Dataset\n",
    "\\>Sample_0001 <br>\n",
    "AACGTCAGTCCAGATATCTT<br>\n",
    "\\>Sample_0002 <br>\n",
    "ATCTTGGCCCTCCACCCTTA<br>\n",
    "\\>Sample_0003 <br>\n",
    "GACATTGTATACTCTTGATG<br>\n",
    "\\>Sample_0004 <br>\n",
    "TGATGTCGTGATTGGAACGT<br>\n",
    "\\>Sample_0005 <br>\n",
    "AACGTAGCTATTAGTTAGAC<br>"
   ]
  },
  {
   "cell_type": "code",
   "execution_count": null,
   "metadata": {},
   "outputs": [],
   "source": []
  },
  {
   "cell_type": "code",
   "execution_count": null,
   "metadata": {},
   "outputs": [],
   "source": []
  },
  {
   "cell_type": "code",
   "execution_count": null,
   "metadata": {},
   "outputs": [],
   "source": []
  }
 ],
 "metadata": {
  "kernelspec": {
   "display_name": "Python 3",
   "language": "python",
   "name": "python3"
  },
  "language_info": {
   "codemirror_mode": {
    "name": "ipython",
    "version": 3
   },
   "file_extension": ".py",
   "mimetype": "text/x-python",
   "name": "python",
   "nbconvert_exporter": "python",
   "pygments_lexer": "ipython3",
   "version": "3.8.2"
  }
 },
 "nbformat": 4,
 "nbformat_minor": 4
}
