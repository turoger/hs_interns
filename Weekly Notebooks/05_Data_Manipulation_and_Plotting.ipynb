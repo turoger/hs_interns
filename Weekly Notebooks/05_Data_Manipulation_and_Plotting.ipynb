{
 "cells": [
  {
   "cell_type": "markdown",
   "metadata": {},
   "source": [
    "# Introduction\n",
    "Back to biology.  Up to this point we have been manipulating DNA strings in a variety of ways to transcribe, translate, express and align DNA.  But how do we look at this data without eyes glazing over or obscure statistical tests?\n",
    "\n",
    "One way to approach these data is through visualization.  Data Visualization is a tool used in many fields to qualitatively assess data.  You’ve probably encountered basic data visualizations in your daily life.  Infographics with pie charts, bar graphs and scatter plots are all examples of data visualizations.\n",
    "\n",
    "Before we can visualize data in python however, we need to get our data properly formatted.  One way to do this is to use a dataframe. A dataframe is a bunch of labeled vectors that hold information.  You can think of a vector as a series of numbers assigned to a variable.  By collating a bunch of vectors together, one can organize data in a coherent fashion for python plotting libraries to use.  To learn more about pandas and dataframes, see below.\n",
    "\n",
    "In this assignment, you will play a pharmaceutical employee trying to analyze data from the lab by utilizing three python packages to aid your boss in visualizing your company's latest and greatest antibody candidates to treat cancers.  You’ll also do a lot of googling, so get a head start!"
   ]
  },
  {
   "cell_type": "markdown",
   "metadata": {},
   "source": [
    "#### pandas package\n",
    "\n",
    "Pandas is a python data analysis and manipulation library.  You’ll need to install it using your favorite package manager.  The basic structure involves vectors that are collated to become a dataframe.  You can learn more about pandas on your own.  Pandas also has its own method of plotting items.  You can use this or you can use the two other packages to generate your plots.\n",
    "\n",
    "#### Matplotlib and Seaborn package\n",
    "\n",
    "Matplotlib and seaborn are python visualization libraries.  Both the pandas and seaborn library use the matplotlib library to generate plots.  Seaborn can be thought of as a skin of matplotlib that makes it easier to generate pretty plots effortlessly.  \n",
    "\n",
    "#### Logomaker package\n",
    "\n",
    "The logomaker package is a python package that makes it easy to create beautiful sequence logo plots.  Sequence logo plots show nucleotide or amino acid characters with varying height corresponding to some type of biological importance against the nucleotide (DNA) or amino acid (protein) position in a strand.  Explore the package’s github to understand how it works.\n"
   ]
  },
  {
   "cell_type": "markdown",
   "metadata": {},
   "source": [
    "## Task #1\n",
    "\n",
    "Suppose you were given 3 DNA strands by a boss, who doesn’t like looking at numbers, reading code, and only wants to look at pretty pictures, and wants to know the percentages of nucleotides per given strand.  These three DNA strands code for a special antibody that can fight cancer.  The boss wants you to generate a plot describing the difference in percentages between the strands.  In this exercise, you will be plotting the percentage of each bases in 3 DNA strands. \n",
    "\n",
    "`CGATTGATACAGGGGACGGTGACGTCGTCATAGATTCGGCACGTTACCCTTGTAGGTGTGGAGCCACTTAGCTACGCGCCGAAGTCCCATGGCAAAACCGATGGACAATGATTCGGGTAGCACCAGGAGTCCGTAGCGCGTGCATCCCGGCGTGGCGCGCGTACAGCTTAACCACCGCTT`\n",
    "\n",
    "`TTAATAGAGCATTCCGTTCGGGCATGGCAGTAAGTACGCCTTCTCAATTGTGCTAACCTTCATCCTTATCAAAGCTTGGAGCCAATGATCAGGATTATTGCCTTGCGACAGACTTCCTACTCACAGTCGCTCACATTGAGCTACTCGATGGGTCATCAGCTTGACCCGGTCTGTTGGGCC`\n",
    "\n",
    "`GCGACTACGTGAGCCAGGGCTCCGGACCGCGCCGTATAGTCGGGCCCGATCCGGCCCCCGCAACTGCAAGCCCCAGCTTGTTCGGGTAACGTGGTTAGCCGAAGTTGCACGGGGTGCCCGCCGCGGAGTCCTCCCCGGGTGTCCCTCCTCCATCCGACGACGGGCGGCCGCCACCGCCGC`"
   ]
  },
  {
   "cell_type": "markdown",
   "metadata": {},
   "source": [
    "#### Extract the ATCG counts from each strand of DNA as well as DNA length (python)"
   ]
  },
  {
   "cell_type": "code",
   "execution_count": null,
   "metadata": {},
   "outputs": [],
   "source": []
  },
  {
   "cell_type": "markdown",
   "metadata": {},
   "source": [
    "#### Create a dataframe from the extracted data as well as calculate the percentage of ATCG using dataframe operations (pandas)"
   ]
  },
  {
   "cell_type": "code",
   "execution_count": null,
   "metadata": {},
   "outputs": [],
   "source": []
  },
  {
   "cell_type": "markdown",
   "metadata": {},
   "source": [
    "#### Melt your dataframe (turn it into a long data format) to aid in plotting (pandas)"
   ]
  },
  {
   "cell_type": "code",
   "execution_count": null,
   "metadata": {},
   "outputs": [],
   "source": []
  },
  {
   "cell_type": "markdown",
   "metadata": {},
   "source": [
    "#### Create a barplot of the three strands and color it by strand 1/2/3. Add a legend.  Don’t forget to label your axes and title. (matplotlib, or seaborn)\n"
   ]
  },
  {
   "cell_type": "code",
   "execution_count": null,
   "metadata": {},
   "outputs": [],
   "source": []
  },
  {
   "cell_type": "markdown",
   "metadata": {},
   "source": [
    "#### Create a box and whisker plot with ATCG as your categorical variable and position of the nucleotide as your continuous variable.  Use colors to highlight strand 1/2/3.\n"
   ]
  },
  {
   "cell_type": "code",
   "execution_count": null,
   "metadata": {},
   "outputs": [],
   "source": []
  },
  {
   "cell_type": "markdown",
   "metadata": {},
   "source": [
    "#### Create a scatter plot of all the “A” and “T” nucleotide positions in strand 1 against all the “A” and “T” nucleotide positions in strand 2.  Color the dots of “A” different from the dots of “T”.  If there are unequal amounts of “A”s and “T”s, cut off the excess and only plot pairs."
   ]
  },
  {
   "cell_type": "code",
   "execution_count": null,
   "metadata": {},
   "outputs": [],
   "source": []
  },
  {
   "cell_type": "markdown",
   "metadata": {},
   "source": [
    "## Task #2\n",
    "Antibodies, specifically IgG antibodies are made up of two light and two heavy chains.  The heavy chains are joined to the light chain and each other via disulfide bonds.  The resulting tetramer has two identical halves forming a Y-like shape.  Antibodies have 3 distinct regions, the variable, antigen-binding, and the constant region.\n",
    "\n",
    "Suppose your boss is now interested in sequence variants, a position in a protein where the amino acid is different from a reference sequence (think consensus sequence but for proteins), in five different lead antibodies and wants to know what proteins and what position is different between all five candidates.  The downstream analytics lab hints that there are variants in the light chain variable region.  The analytics lab was nice and decided to give you the proteins DNA code that they sequenced.  As a bioinformatician, your goal is to take these five DNA fragments that code for a light variable chain in an antibody and return a sequence logo plot with the logomaker package."
   ]
  },
  {
   "cell_type": "markdown",
   "metadata": {},
   "source": [
    "#### Identify the fraction of nucleotides at each position.  If there are 2 A’s, 2 C’s and 1 G at position 1, the fraction of A’s is 0.4, T’s is 0, C’s is 0.4. G’s is 0.2"
   ]
  },
  {
   "cell_type": "code",
   "execution_count": null,
   "metadata": {},
   "outputs": [],
   "source": []
  },
  {
   "cell_type": "markdown",
   "metadata": {},
   "source": [
    "#### Create a pandas dataframe with position as rows and nucleotides as columns"
   ]
  },
  {
   "cell_type": "code",
   "execution_count": null,
   "metadata": {},
   "outputs": [],
   "source": []
  },
  {
   "cell_type": "markdown",
   "metadata": {},
   "source": [
    "#### Create a logo plot using logo maker"
   ]
  },
  {
   "cell_type": "code",
   "execution_count": null,
   "metadata": {},
   "outputs": [],
   "source": []
  },
  {
   "cell_type": "markdown",
   "metadata": {},
   "source": [
    "#### Create a line plot tracking the accumulation of nucleotide counts over time. "
   ]
  },
  {
   "cell_type": "code",
   "execution_count": null,
   "metadata": {},
   "outputs": [],
   "source": []
  },
  {
   "cell_type": "markdown",
   "metadata": {},
   "source": [
    "## Task #3\n",
    "The analytics lab staff got fired and the new one-man hire can only give you protein sequences from the mass spectrometer because the hire is still learning.  The one-man analytics lab gives you these five protein fragments.  As a bioinformatician, use the logomaker package to create a sequence logo plot of your amino acid sequence variants."
   ]
  },
  {
   "cell_type": "markdown",
   "metadata": {},
   "source": [
    "#### Identify the fraction of amino acid at each given position (same as above but now with amino acids)"
   ]
  },
  {
   "cell_type": "code",
   "execution_count": null,
   "metadata": {},
   "outputs": [],
   "source": []
  },
  {
   "cell_type": "markdown",
   "metadata": {},
   "source": [
    "#### Create a pandas dataframe with position as rows and amino acid’s as columns"
   ]
  },
  {
   "cell_type": "code",
   "execution_count": null,
   "metadata": {},
   "outputs": [],
   "source": []
  },
  {
   "cell_type": "markdown",
   "metadata": {},
   "source": [
    "#### Create a logo plot using logo maker"
   ]
  },
  {
   "cell_type": "code",
   "execution_count": null,
   "metadata": {},
   "outputs": [],
   "source": []
  },
  {
   "cell_type": "markdown",
   "metadata": {},
   "source": [
    "#### Create an appropriate plot to visualize the average occurrence of all amino acids in the five strands.\n"
   ]
  },
  {
   "cell_type": "code",
   "execution_count": null,
   "metadata": {},
   "outputs": [],
   "source": []
  }
 ],
 "metadata": {
  "kernelspec": {
   "display_name": "Python 3",
   "language": "python",
   "name": "python3"
  },
  "language_info": {
   "codemirror_mode": {
    "name": "ipython",
    "version": 3
   },
   "file_extension": ".py",
   "mimetype": "text/x-python",
   "name": "python",
   "nbconvert_exporter": "python",
   "pygments_lexer": "ipython3",
   "version": "3.8.2"
  }
 },
 "nbformat": 4,
 "nbformat_minor": 4
}
