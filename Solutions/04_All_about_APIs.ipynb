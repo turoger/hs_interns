{
 "cells": [
  {
   "cell_type": "markdown",
   "metadata": {},
   "source": [
    "# 1. Introduction\n",
    "\n",
    "#### APIs\n",
    "\n",
    "By definition, an application programming interface, or API, is a set of functions and procedures that allow applications access to features or data of a service.  The basic idea of an API is it provides a portal for a user to access data from a server or database in a controlled manner. \n",
    "APIs have a wide range of functions, from serving as interfaces between an application and an operating system, to communication between websites and companies, to even storage of data.\n",
    "There’s probably a fancier way to describe it and you are encouraged to learn more about it if this interests you.\n",
    "\n",
    "In this project we will be interacting with an API to retrieve data and perform calculations on that data once is asynchronously returned to us. \n",
    "\n",
    "#### Requests package\n",
    "\n",
    "Requests is a python library designed to interface with APIs.  Take a look at this video and learn about how you can use this package. \n",
    "\n",
    "Read about the requests package on their documentation site here.  Directions on installing the requests package can be found here. Be sure to use a virtual environment (instructions can be found in Project #2).\n",
    "\n",
    "#### Poké API\n",
    "\n",
    "https://pokeapi.co/\n",
    "Now that you’ve gotten the requests library installed, lets explore an API.  We’ll start with a beautifully simple Poké API.  Take some time to look at it and read their documentation. A big part of a developer’s job is learning to read/write documentation. Remember: you’re not coding for yourself, you’re teaching people how to maintain and read your code. Nobody wants to be handed down messy code. \n"
   ]
  },
  {
   "cell_type": "code",
   "execution_count": 1,
   "metadata": {},
   "outputs": [],
   "source": [
    "import requests as req"
   ]
  },
  {
   "cell_type": "markdown",
   "metadata": {},
   "source": [
    "## Task 1:\n",
    "#### Start a new notebook and successfully contact the Pokemon API and perform the following individual API calls\n",
    "* Get the original 151 Pokemon and list their names. "
   ]
  },
  {
   "cell_type": "code",
   "execution_count": 2,
   "metadata": {},
   "outputs": [
    {
     "data": {
      "text/plain": [
       "200"
      ]
     },
     "execution_count": 2,
     "metadata": {},
     "output_type": "execute_result"
    }
   ],
   "source": [
    "poke = req.get('https://pokeapi.co/api/v2/')\n",
    "poke.status_code"
   ]
  },
  {
   "cell_type": "code",
   "execution_count": 3,
   "metadata": {
    "scrolled": true
   },
   "outputs": [
    {
     "data": {
      "text/plain": [
       "'https://pokeapi.co/api/v2/pokemon/'"
      ]
     },
     "execution_count": 3,
     "metadata": {},
     "output_type": "execute_result"
    }
   ],
   "source": [
    "poke.json()['pokemon']"
   ]
  },
  {
   "cell_type": "code",
   "execution_count": 4,
   "metadata": {},
   "outputs": [],
   "source": [
    "poke2 = req.get('https://pokeapi.co/api/v2/pokemon?limit=151')"
   ]
  },
  {
   "cell_type": "code",
   "execution_count": 5,
   "metadata": {},
   "outputs": [
    {
     "data": {
      "text/plain": [
       "<Response [200]>"
      ]
     },
     "execution_count": 5,
     "metadata": {},
     "output_type": "execute_result"
    }
   ],
   "source": [
    "poke2"
   ]
  },
  {
   "cell_type": "code",
   "execution_count": 6,
   "metadata": {},
   "outputs": [
    {
     "data": {
      "text/plain": [
       "['bulbasaur',\n",
       " 'ivysaur',\n",
       " 'venusaur',\n",
       " 'charmander',\n",
       " 'charmeleon',\n",
       " 'charizard',\n",
       " 'squirtle',\n",
       " 'wartortle',\n",
       " 'blastoise',\n",
       " 'caterpie',\n",
       " 'metapod',\n",
       " 'butterfree',\n",
       " 'weedle',\n",
       " 'kakuna',\n",
       " 'beedrill',\n",
       " 'pidgey',\n",
       " 'pidgeotto',\n",
       " 'pidgeot',\n",
       " 'rattata',\n",
       " 'raticate',\n",
       " 'spearow',\n",
       " 'fearow',\n",
       " 'ekans',\n",
       " 'arbok',\n",
       " 'pikachu',\n",
       " 'raichu',\n",
       " 'sandshrew',\n",
       " 'sandslash',\n",
       " 'nidoran-f',\n",
       " 'nidorina',\n",
       " 'nidoqueen',\n",
       " 'nidoran-m',\n",
       " 'nidorino',\n",
       " 'nidoking',\n",
       " 'clefairy',\n",
       " 'clefable',\n",
       " 'vulpix',\n",
       " 'ninetales',\n",
       " 'jigglypuff',\n",
       " 'wigglytuff',\n",
       " 'zubat',\n",
       " 'golbat',\n",
       " 'oddish',\n",
       " 'gloom',\n",
       " 'vileplume',\n",
       " 'paras',\n",
       " 'parasect',\n",
       " 'venonat',\n",
       " 'venomoth',\n",
       " 'diglett',\n",
       " 'dugtrio',\n",
       " 'meowth',\n",
       " 'persian',\n",
       " 'psyduck',\n",
       " 'golduck',\n",
       " 'mankey',\n",
       " 'primeape',\n",
       " 'growlithe',\n",
       " 'arcanine',\n",
       " 'poliwag',\n",
       " 'poliwhirl',\n",
       " 'poliwrath',\n",
       " 'abra',\n",
       " 'kadabra',\n",
       " 'alakazam',\n",
       " 'machop',\n",
       " 'machoke',\n",
       " 'machamp',\n",
       " 'bellsprout',\n",
       " 'weepinbell',\n",
       " 'victreebel',\n",
       " 'tentacool',\n",
       " 'tentacruel',\n",
       " 'geodude',\n",
       " 'graveler',\n",
       " 'golem',\n",
       " 'ponyta',\n",
       " 'rapidash',\n",
       " 'slowpoke',\n",
       " 'slowbro',\n",
       " 'magnemite',\n",
       " 'magneton',\n",
       " 'farfetchd',\n",
       " 'doduo',\n",
       " 'dodrio',\n",
       " 'seel',\n",
       " 'dewgong',\n",
       " 'grimer',\n",
       " 'muk',\n",
       " 'shellder',\n",
       " 'cloyster',\n",
       " 'gastly',\n",
       " 'haunter',\n",
       " 'gengar',\n",
       " 'onix',\n",
       " 'drowzee',\n",
       " 'hypno',\n",
       " 'krabby',\n",
       " 'kingler',\n",
       " 'voltorb',\n",
       " 'electrode',\n",
       " 'exeggcute',\n",
       " 'exeggutor',\n",
       " 'cubone',\n",
       " 'marowak',\n",
       " 'hitmonlee',\n",
       " 'hitmonchan',\n",
       " 'lickitung',\n",
       " 'koffing',\n",
       " 'weezing',\n",
       " 'rhyhorn',\n",
       " 'rhydon',\n",
       " 'chansey',\n",
       " 'tangela',\n",
       " 'kangaskhan',\n",
       " 'horsea',\n",
       " 'seadra',\n",
       " 'goldeen',\n",
       " 'seaking',\n",
       " 'staryu',\n",
       " 'starmie',\n",
       " 'mr-mime',\n",
       " 'scyther',\n",
       " 'jynx',\n",
       " 'electabuzz',\n",
       " 'magmar',\n",
       " 'pinsir',\n",
       " 'tauros',\n",
       " 'magikarp',\n",
       " 'gyarados',\n",
       " 'lapras',\n",
       " 'ditto',\n",
       " 'eevee',\n",
       " 'vaporeon',\n",
       " 'jolteon',\n",
       " 'flareon',\n",
       " 'porygon',\n",
       " 'omanyte',\n",
       " 'omastar',\n",
       " 'kabuto',\n",
       " 'kabutops',\n",
       " 'aerodactyl',\n",
       " 'snorlax',\n",
       " 'articuno',\n",
       " 'zapdos',\n",
       " 'moltres',\n",
       " 'dratini',\n",
       " 'dragonair',\n",
       " 'dragonite',\n",
       " 'mewtwo',\n",
       " 'mew']"
      ]
     },
     "execution_count": 6,
     "metadata": {},
     "output_type": "execute_result"
    }
   ],
   "source": [
    "#pokemon names for og 151\n",
    "[i['name'] for i in poke2.json()['results']]"
   ]
  },
  {
   "cell_type": "markdown",
   "metadata": {},
   "source": [
    "* Get a count for all Pokemon available on the API, and sort them in a dictionary organized by the letter they start with. Eg. { A: [‘all pokemon with names starting with A’] }\n"
   ]
  },
  {
   "cell_type": "code",
   "execution_count": 7,
   "metadata": {},
   "outputs": [],
   "source": [
    "poke3 = req.get('https://pokeapi.co/api/v2/pokemon?limit=964')"
   ]
  },
  {
   "cell_type": "code",
   "execution_count": 8,
   "metadata": {},
   "outputs": [
    {
     "data": {
      "text/plain": [
       "<Response [200]>"
      ]
     },
     "execution_count": 8,
     "metadata": {},
     "output_type": "execute_result"
    }
   ],
   "source": [
    "poke3"
   ]
  },
  {
   "cell_type": "code",
   "execution_count": 9,
   "metadata": {},
   "outputs": [],
   "source": [
    "alpha_dict = dict()\n",
    "for i in sorted([pokemon['name'] for pokemon in poke3.json()['results']]):\n",
    "    try:\n",
    "        v = alpha_dict[i[0]]\n",
    "        v.append(i)\n",
    "        alpha_dict.update({i[0]:v})\n",
    "    except:\n",
    "        alpha_dict.update({i[0]:[i]})"
   ]
  },
  {
   "cell_type": "code",
   "execution_count": 10,
   "metadata": {
    "scrolled": true
   },
   "outputs": [
    {
     "data": {
      "text/plain": [
       "['abomasnow',\n",
       " 'abomasnow-mega',\n",
       " 'abra',\n",
       " 'absol',\n",
       " 'absol-mega',\n",
       " 'accelgor',\n",
       " 'aegislash-blade',\n",
       " 'aegislash-shield',\n",
       " 'aerodactyl',\n",
       " 'aerodactyl-mega',\n",
       " 'aggron',\n",
       " 'aggron-mega',\n",
       " 'aipom',\n",
       " 'alakazam',\n",
       " 'alakazam-mega',\n",
       " 'alomomola',\n",
       " 'altaria',\n",
       " 'altaria-mega',\n",
       " 'amaura',\n",
       " 'ambipom',\n",
       " 'amoonguss',\n",
       " 'ampharos',\n",
       " 'ampharos-mega',\n",
       " 'anorith',\n",
       " 'araquanid',\n",
       " 'araquanid-totem',\n",
       " 'arbok',\n",
       " 'arcanine',\n",
       " 'arceus',\n",
       " 'archen',\n",
       " 'archeops',\n",
       " 'ariados',\n",
       " 'armaldo',\n",
       " 'aromatisse',\n",
       " 'aron',\n",
       " 'articuno',\n",
       " 'audino',\n",
       " 'audino-mega',\n",
       " 'aurorus',\n",
       " 'avalugg',\n",
       " 'axew',\n",
       " 'azelf',\n",
       " 'azumarill',\n",
       " 'azurill']"
      ]
     },
     "execution_count": 10,
     "metadata": {},
     "output_type": "execute_result"
    }
   ],
   "source": [
    "alpha_dict['a']"
   ]
  },
  {
   "cell_type": "markdown",
   "metadata": {},
   "source": [
    "* Find a way to get your top 3 pokemon and display their image on your notebook. Bonus: Make it into a function that can display any Pokemon given its name.\n"
   ]
  },
  {
   "cell_type": "code",
   "execution_count": 11,
   "metadata": {},
   "outputs": [],
   "source": [
    "pokeform = req.get('https://pokeapi.co/api/v2/pokemon-form?limit=964')"
   ]
  },
  {
   "cell_type": "code",
   "execution_count": 12,
   "metadata": {},
   "outputs": [],
   "source": [
    "# pokeform.json()"
   ]
  },
  {
   "cell_type": "code",
   "execution_count": 13,
   "metadata": {},
   "outputs": [],
   "source": [
    "from IPython.display import Image, display\n",
    "def pokepic(name:str):\n",
    "    '''\n",
    "    Given a pokemon name, return its picture. You'd need to query the pokemon forms first.\n",
    "    '''\n",
    "    try:\n",
    "        the_goods = [i for i in pokeform.json()['results'] if i['name']== name]\n",
    "        image1 = req.get(the_goods[0]['url']) # get the forms\n",
    "        image2 = image1.json()['sprites']['front_default']\n",
    "        image3 = req.get(image2, stream = all)\n",
    "        return(display(Image(image3.content)))\n",
    "        \n",
    "    except:\n",
    "        print('name: {name} does not exist, please check the spelling')"
   ]
  },
  {
   "cell_type": "code",
   "execution_count": 14,
   "metadata": {
    "scrolled": true
   },
   "outputs": [
    {
     "data": {
      "image/png": "[encoded data removed]",
      "text/plain": [
       "<IPython.core.display.Image object>"
      ]
     },
     "metadata": {},
     "output_type": "display_data"
    }
   ],
   "source": [
    "pokepic('bulbasaur')"
   ]
  },
  {
   "cell_type": "code",
   "execution_count": 15,
   "metadata": {},
   "outputs": [
    {
     "data": {
      "image/png": "[encoded data removed]",
      "text/plain": [
       "<IPython.core.display.Image object>"
      ]
     },
     "metadata": {},
     "output_type": "display_data"
    }
   ],
   "source": [
    "pokepic('dragonite')"
   ]
  },
  {
   "cell_type": "code",
   "execution_count": 16,
   "metadata": {},
   "outputs": [
    {
     "data": {
      "image/png": "[encoded data removed]",
      "text/plain": [
       "<IPython.core.display.Image object>"
      ]
     },
     "metadata": {},
     "output_type": "display_data"
    }
   ],
   "source": [
    "pokepic('pikachu')"
   ]
  },
  {
   "cell_type": "markdown",
   "metadata": {},
   "source": [
    "* Get all “dragon” type pokemon and list them."
   ]
  },
  {
   "cell_type": "code",
   "execution_count": 17,
   "metadata": {},
   "outputs": [],
   "source": [
    "drag = req.get('https://pokeapi.co/api/v2/type/dragon')"
   ]
  },
  {
   "cell_type": "code",
   "execution_count": 18,
   "metadata": {
    "scrolled": true
   },
   "outputs": [
    {
     "data": {
      "text/plain": [
       "['dratini',\n",
       " 'dragonair',\n",
       " 'dragonite',\n",
       " 'kingdra',\n",
       " 'vibrava',\n",
       " 'flygon',\n",
       " 'altaria',\n",
       " 'bagon',\n",
       " 'shelgon',\n",
       " 'salamence',\n",
       " 'latias',\n",
       " 'latios',\n",
       " 'rayquaza',\n",
       " 'gible',\n",
       " 'gabite',\n",
       " 'garchomp',\n",
       " 'dialga',\n",
       " 'palkia',\n",
       " 'giratina-altered',\n",
       " 'axew',\n",
       " 'fraxure',\n",
       " 'haxorus',\n",
       " 'druddigon',\n",
       " 'deino',\n",
       " 'zweilous',\n",
       " 'hydreigon',\n",
       " 'reshiram',\n",
       " 'zekrom',\n",
       " 'kyurem',\n",
       " 'dragalge',\n",
       " 'tyrunt',\n",
       " 'tyrantrum',\n",
       " 'goomy',\n",
       " 'sliggoo',\n",
       " 'goodra',\n",
       " 'noibat',\n",
       " 'noivern',\n",
       " 'zygarde',\n",
       " 'turtonator',\n",
       " 'drampa',\n",
       " 'jangmo-o',\n",
       " 'hakamo-o',\n",
       " 'kommo-o',\n",
       " 'guzzlord',\n",
       " 'naganadel',\n",
       " 'giratina-origin',\n",
       " 'kyurem-black',\n",
       " 'kyurem-white',\n",
       " 'charizard-mega-x',\n",
       " 'ampharos-mega',\n",
       " 'garchomp-mega',\n",
       " 'latias-mega',\n",
       " 'latios-mega',\n",
       " 'sceptile-mega',\n",
       " 'altaria-mega',\n",
       " 'rayquaza-mega',\n",
       " 'salamence-mega',\n",
       " 'exeggutor-alola',\n",
       " 'zygarde-10',\n",
       " 'zygarde-50',\n",
       " 'zygarde-complete',\n",
       " 'kommo-o-totem',\n",
       " 'necrozma-ultra']"
      ]
     },
     "execution_count": 18,
     "metadata": {},
     "output_type": "execute_result"
    }
   ],
   "source": [
    "[i['pokemon']['name'] for i in drag.json()['pokemon']]"
   ]
  },
  {
   "cell_type": "markdown",
   "metadata": {},
   "source": [
    "\n",
    "#### Bonus: handle bad responses, learn about status codes and only perform your logic if you get a “good” response code. If you get a “bad” response alert the user. \n",
    "\n",
    "* 200 OK, 201 Created, 202 Accepted: Everything went awesome.\n",
    "\n",
    "* 400 Bad Request:Your request is invalid and/or not formed properly. You need to reformulate your request.\n",
    "\n",
    "* 401 Not Authorized: Either you need to provide authentication credentials, or the credentials provided aren't valid.\n",
    "\n",
    "* 403 Forbidden: We understand your request, but are refusing to fulfill it. An accompanying error message should explain why.\n",
    "\n",
    "* 404 Not Found: Either you're requesting an invalid URI or the resource in question doesn't exist (ex: no such user).\n",
    "\n",
    "* 500 Internal Server Error: We did something wrong. We'll be notified and we'll look into it.\n",
    "\n",
    "* 502 Bad Gateway: Returned if Intervals is down or being upgraded, or if the system is overloaded and API requests are being throttled.\n",
    "\n",
    "* 503 Service Unavailable: Usually as a result of suspension, we are refusing to process this request. You *may* try again later."
   ]
  },
  {
   "cell_type": "code",
   "execution_count": 19,
   "metadata": {},
   "outputs": [],
   "source": [
    "# do a basic try/except or do a raise ValueError based on the value returned."
   ]
  },
  {
   "cell_type": "markdown",
   "metadata": {},
   "source": [
    "## Task 2\n",
    "#### Great this should give you a little background on how APIs work. Now let’s use an API that’s a bit more complex and more biology related.  Use the requests package to do the following tasks in your jupyter notebooks.\n",
    "\n",
    "* Write a query that requests a json file for the first 10 human proteins (Homo sapiens) that have an amino acid length between 3-14 in https://www.ebi.ac.uk/proteins/api/doc/index.html.  Grab the protein name, and the protein sequence.\n"
   ]
  },
  {
   "cell_type": "code",
   "execution_count": 20,
   "metadata": {},
   "outputs": [],
   "source": [
    "hPro = req.get('https://www.ebi.ac.uk/proteins/api/proteins?offset=0&size=10&organism=homo%20sapiens&seqLength=3-14',\n",
    "              headers = {\"Accept\" : \"application/json\"})"
   ]
  },
  {
   "cell_type": "markdown",
   "metadata": {},
   "source": [
    "##### to get names and sequence of 1 entry..."
   ]
  },
  {
   "cell_type": "code",
   "execution_count": 21,
   "metadata": {},
   "outputs": [
    {
     "data": {
      "text/plain": [
       "{'submittedName': [{'fullName': {'value': 'Integrin a4 subunit',\n",
       "    'evidences': [{'code': 'ECO:0000313',\n",
       "      'source': {'name': 'EMBL',\n",
       "       'id': 'AGZ05213.1',\n",
       "       'url': 'https://www.ebi.ac.uk/ena/data/view/AGZ05213.1'}}]}}]}"
      ]
     },
     "execution_count": 21,
     "metadata": {},
     "output_type": "execute_result"
    }
   ],
   "source": [
    "hPro.json()[0]['protein']"
   ]
  },
  {
   "cell_type": "code",
   "execution_count": 22,
   "metadata": {},
   "outputs": [
    {
     "data": {
      "text/plain": [
       "'Integrin a4 subunit'"
      ]
     },
     "execution_count": 22,
     "metadata": {},
     "output_type": "execute_result"
    }
   ],
   "source": [
    "hPro.json()[0]['protein']['submittedName'][0]['fullName']['value']"
   ]
  },
  {
   "cell_type": "code",
   "execution_count": 23,
   "metadata": {},
   "outputs": [
    {
     "data": {
      "text/plain": [
       "{'version': 1,\n",
       " 'length': 11,\n",
       " 'mass': 1317,\n",
       " 'modified': '2014-07-09',\n",
       " 'sequence': 'DYVKKFGENFA'}"
      ]
     },
     "execution_count": 23,
     "metadata": {},
     "output_type": "execute_result"
    }
   ],
   "source": [
    "hPro.json()[0]['sequence']"
   ]
  },
  {
   "cell_type": "code",
   "execution_count": 24,
   "metadata": {},
   "outputs": [
    {
     "data": {
      "text/plain": [
       "'DYVKKFGENFA'"
      ]
     },
     "execution_count": 24,
     "metadata": {},
     "output_type": "execute_result"
    }
   ],
   "source": [
    "hPro.json()[0]['sequence']['sequence']"
   ]
  },
  {
   "cell_type": "markdown",
   "metadata": {},
   "source": [
    "##### to get it out as a function"
   ]
  },
  {
   "cell_type": "code",
   "execution_count": 25,
   "metadata": {},
   "outputs": [],
   "source": [
    "def get_first_n (n:int, r1:int, r2:int):\n",
    "    '''gets the first \"n\" number of human proteins names and sequences with lengths from r1 to r2 '''\n",
    "    hPro = req.get(f'https://www.ebi.ac.uk/proteins/api/proteins?offset=0&size={n}&organism=homo%20sapiens&seqLength={r1}-{r2}',\n",
    "              headers = {\"Accept\" : \"application/json\"})\n",
    "    \n",
    "    empty = list()\n",
    "    for i,v in enumerate(hPro.json()):\n",
    "        name = hPro.json()[i]['protein']['submittedName'][0]['fullName']['value']\n",
    "        sequ = hPro.json()[i]['sequence']['sequence']\n",
    "        empty.append((name,sequ))\n",
    "    \n",
    "    return(empty)"
   ]
  },
  {
   "cell_type": "code",
   "execution_count": 26,
   "metadata": {},
   "outputs": [
    {
     "name": "stdout",
     "output_type": "stream",
     "text": [
      "protein name: Integrin a4 subunit\n",
      "sequence: DYVKKFGENFA\n",
      "protein name: Truncated breast and ovarian cancer susceptibility protein 2\n",
      "sequence: LITSLQNARDI\n",
      "protein name: Truncated breast and ovarian cancer susceptibility protein 1\n",
      "sequence: QETSLSVQL\n",
      "protein name: Truncated breast and ovarian cancer susceptibility protein 1\n",
      "sequence: MDLSALRVEEV\n",
      "protein name: Truncated breast and ovarian cancer susceptibility protein 2\n",
      "sequence: LAPFVYLSDEC\n",
      "protein name: Truncated breast and ovarian cancer susceptibility protein 1\n",
      "sequence: IGQMCEAPVVT\n",
      "protein name: Protein IGHD2OR15-2A\n",
      "sequence: XEYCNSTTFYA\n",
      "protein name: Protein IGHD3OR15-3A\n",
      "sequence: XYYDFWTGYYT\n",
      "protein name: Methyl CpG binding protein 2\n",
      "sequence: MVAGMLGL\n",
      "protein name: ATP synthase F0 subunit 8\n",
      "sequence: ICSLHSLPPQS\n"
     ]
    },
    {
     "data": {
      "text/plain": [
       "[None, None, None, None, None, None, None, None, None, None]"
      ]
     },
     "execution_count": 26,
     "metadata": {},
     "output_type": "execute_result"
    }
   ],
   "source": [
    "[print(f'protein name: {i}\\nsequence: {v}') for i,v in get_first_n(n=10,r1=3,r2=14)]"
   ]
  },
  {
   "cell_type": "markdown",
   "metadata": {},
   "source": [
    "* Write a query that requests a json file for the human ACVR1 gene and return the protein name, sequence and length of protein sequence. Iterate through the sequence and count the occurrence of each amino acid."
   ]
  },
  {
   "cell_type": "code",
   "execution_count": 27,
   "metadata": {},
   "outputs": [],
   "source": [
    "acvr1 = req.get('https://www.ebi.ac.uk/proteins/api/proteins?offset=0&size=10&gene=ACVR1&organism=homo%20sapiens',\n",
    "       headers = {'Accept':\"application/json\"})"
   ]
  },
  {
   "cell_type": "code",
   "execution_count": 28,
   "metadata": {},
   "outputs": [
    {
     "data": {
      "text/plain": [
       "'Receptor protein serine/threonine kinase'"
      ]
     },
     "execution_count": 28,
     "metadata": {},
     "output_type": "execute_result"
    }
   ],
   "source": [
    "# Protein Name\n",
    "acvr1.json()[0]['protein']['recommendedName']['fullName']['value']"
   ]
  },
  {
   "cell_type": "code",
   "execution_count": 29,
   "metadata": {},
   "outputs": [
    {
     "data": {
      "text/plain": [
       "351"
      ]
     },
     "execution_count": 29,
     "metadata": {},
     "output_type": "execute_result"
    }
   ],
   "source": [
    "# Protein Length\n",
    "acvr1.json()[0]['sequence']['length']"
   ]
  },
  {
   "cell_type": "code",
   "execution_count": 30,
   "metadata": {},
   "outputs": [
    {
     "data": {
      "text/plain": [
       "'MVDGVMILPVLIMIALPSPSMEDEKPKVNPKLYMCVCEGLSCGNEDHCEGQQCFSSLSINDGFHVYQKGCFQVYEQGKMTCKTPPSPGQAVECCQGDWCNRNITAQLPTKGKSFPGTQNFHLEVGLIILSVVFAVCLLACLLGVALRKFKRRNQERLNPRDVEYGTIEGLITTNVGDSTLADLLDHSCTSGSGSGLPFLVQRTVARQITLLECVGKGRYGEVWRGSWQGENVAVKIFSSRDEKSWFRETELYNTVMLRHENILGIVEDYKPPFYDVVPNDPSFEDMRKVVCVDQQRPNIPNRWFSDPTLTSLAKLMKECWYQNPSARLTALRIKKTLTKIDNSLDKLKTDC'"
      ]
     },
     "execution_count": 30,
     "metadata": {},
     "output_type": "execute_result"
    }
   ],
   "source": [
    "# Protein Sequence\n",
    "acvr1.json()[0]['sequence']['sequence']"
   ]
  },
  {
   "cell_type": "code",
   "execution_count": 31,
   "metadata": {},
   "outputs": [],
   "source": [
    "# occurence of each Amino Acid\n",
    "\n",
    "count_dict = dict()\n",
    "for i in acvr1.json()[0]['sequence']['sequence']:\n",
    "    try:\n",
    "        val = count_dict[i]\n",
    "        val +=1\n",
    "        count_dict.update({i:val})\n",
    "    except:\n",
    "        count_dict.update({i:1})"
   ]
  },
  {
   "cell_type": "code",
   "execution_count": 32,
   "metadata": {},
   "outputs": [
    {
     "data": {
      "text/plain": [
       "{'M': 9,\n",
       " 'V': 28,\n",
       " 'D': 19,\n",
       " 'G': 25,\n",
       " 'I': 16,\n",
       " 'L': 35,\n",
       " 'P': 20,\n",
       " 'A': 12,\n",
       " 'S': 23,\n",
       " 'E': 21,\n",
       " 'K': 22,\n",
       " 'N': 17,\n",
       " 'Y': 9,\n",
       " 'C': 17,\n",
       " 'H': 5,\n",
       " 'Q': 16,\n",
       " 'F': 13,\n",
       " 'T': 20,\n",
       " 'W': 6,\n",
       " 'R': 18}"
      ]
     },
     "execution_count": 32,
     "metadata": {},
     "output_type": "execute_result"
    }
   ],
   "source": [
    "count_dict"
   ]
  },
  {
   "cell_type": "markdown",
   "metadata": {},
   "source": [
    "* Write a query that finds articles relating to the protein ACE2.  Parse the output and return the first 10 articles that have “coronavirus” in its title."
   ]
  },
  {
   "cell_type": "code",
   "execution_count": 33,
   "metadata": {},
   "outputs": [],
   "source": [
    "ace2 = req.get('https://www.ebi.ac.uk/proteins/api/proteins?offset=0&size=10&gene=ace2&organism=homo%20sapiens',\n",
    "       headers = {'Accept':\"application/json\"})"
   ]
  },
  {
   "cell_type": "code",
   "execution_count": 34,
   "metadata": {},
   "outputs": [
    {
     "name": "stdout",
     "output_type": "stream",
     "text": [
      "Angiotensin-converting enzyme 2 is a functional receptor for the SARS coronavirus.\n",
      "Tissue distribution of ACE2 protein, the functional receptor for SARS coronavirus. A first step in understanding SARS pathogenesis.\n",
      "Efficient replication of severe acute respiratory syndrome coronavirus in mouse cells is limited by murine angiotensin-converting enzyme 2.\n",
      "Receptor and viral determinants of SARS-coronavirus adaptation to human ACE2.\n",
      "Tumor necrosis factor-alpha convertase (ADAM17) mediates regulated ectodomain shedding of the severe-acute respiratory syndrome-coronavirus (SARS-CoV) receptor, angiotensin-converting enzyme-2 (ACE2).\n",
      "Human coronavirus NL63 employs the severe acute respiratory syndrome coronavirus receptor for cellular entry.\n",
      "A transmembrane serine protease is linked to the severe acute respiratory syndrome coronavirus receptor and activates virus entry.\n",
      "TMPRSS2 and ADAM17 cleave ACE2 differentially and only proteolysis by TMPRSS2 augments entry driven by the severe acute respiratory syndrome coronavirus spike protein.\n",
      "Structure of SARS coronavirus spike receptor-binding domain complexed with receptor.\n",
      "Cryo-EM structure of the SARS coronavirus spike glycoprotein in complex with its host cell receptor ACE2.\n",
      "Stabilized coronavirus spikes are resistant to conformational changes induced by receptor recognition or proteolysis.\n"
     ]
    }
   ],
   "source": [
    "for i,v in enumerate(ace2.json()[0]['references']):\n",
    "    counter = 1\n",
    "    try:\n",
    "        title = ace2.json()[0]['references'][i]['citation']['title']\n",
    "        if counter ==10:\n",
    "            break\n",
    "            \n",
    "        if title.find('coronavirus') != -1:\n",
    "            print(title)\n",
    "            counter +=1\n",
    "    except:\n",
    "        pass"
   ]
  }
 ],
 "metadata": {
  "kernelspec": {
   "display_name": "Python 3",
   "language": "python",
   "name": "python3"
  },
  "language_info": {
   "codemirror_mode": {
    "name": "ipython",
    "version": 3
   },
   "file_extension": ".py",
   "mimetype": "text/x-python",
   "name": "python",
   "nbconvert_exporter": "python",
   "pygments_lexer": "ipython3",
   "version": "3.8.2"
  }
 },
 "nbformat": 4,
 "nbformat_minor": 4
}
