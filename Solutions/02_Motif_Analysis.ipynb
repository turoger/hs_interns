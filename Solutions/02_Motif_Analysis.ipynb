{
 "cells": [
  {
   "cell_type": "markdown",
   "metadata": {},
   "source": [
    "# 1. Introduction\n",
    "\n",
    "Identifying repeating sequences (motifs) in DNA are important for many things in biology.  Certain proteins, like restriction enzymes isolated from bacteria, identify places in DNA to cut.  This allows biologists to manipulate and insert new DNA fragments into plasmids (circular bacterial DNA) which are transfected (forced into) into a bacterial host to engineer and produce proteins in the lab.  In humans, proteins like transcription factors bind to promoter regions (a motif) to control the expression of its target gene. <br>\n",
    "\n",
    "DNA motifs are not only important for bench scientists.  Identification of consensus sequences , the most commonly occurring base pair at each location given strands of DNA,  help us build hypotheses about how mutations different from consensus can improve or be detrimental to an organism’s fitness. <br>\n",
    "\n",
    "Using python, you will be identifying motif sites, consensus sequences and mutations given strands of DNA.   Python skills will involve string manipulation, indexing and looping. <br>\n"
   ]
  },
  {
   "cell_type": "markdown",
   "metadata": {},
   "source": [
    "# 2. Finding a motif in DNA strand\n",
    "\n",
    "Given this 99 base pair 3’ strand of DNA, find the start locations of each of the following motifs at the bottom.  Note, there can be multiple locations that host the motifs, and remember python indexing starts at 0.\n",
    "\n",
    "`3’-TACTCTCGTTCTTGCAGCTTGTCAGTACTTTCAGAATCATGGTGTGCATGGTAGAATGACTCTTATAACGAACTTCGACATGGCAATAACCCCCCGATT-5’`\n",
    "\n",
    "#### Motifs\n",
    "1. `TCGA`\n",
    "2. `AAT`\n",
    "3. `TT`\n",
    "\n",
    "Example: motif `CCCCCC` occurs once at index 89 of the above DNA strand."
   ]
  },
  {
   "cell_type": "code",
   "execution_count": 1,
   "metadata": {},
   "outputs": [],
   "source": [
    "DNA = '3’-TACTCTCGTTCTTGCAGCTTGTCAGTACCTTTAGAATCATGGTGTGCATGGTAGAATGACTCTTATAACGAACTTCGACATGGCAATAACCCCCCGATT-5’'\n",
    "DNA = DNA.split('-')[1] # get DNA only, no leading strand"
   ]
  },
  {
   "cell_type": "code",
   "execution_count": 2,
   "metadata": {},
   "outputs": [],
   "source": [
    "def motif_finder (dna:str, motifs:str):\n",
    "    'Iterate through the DNA strand to find all location of the motifs in the DNA'\n",
    "\n",
    "    motif_len = len(motifs) # looks at the next X characters in your string\n",
    "    locations = [loc for loc, nucleotide in enumerate(dna) if dna[loc:loc+motif_len]==motifs]\n",
    "    return(locations)"
   ]
  },
  {
   "cell_type": "code",
   "execution_count": 3,
   "metadata": {},
   "outputs": [
    {
     "name": "stdout",
     "output_type": "stream",
     "text": [
      "the start location(s) for motif: TCGA is [74]\n",
      "the start location(s) for motif: AAT is [34, 54, 84]\n",
      "the start location(s) for motif: TT is [8, 11, 18, 29, 30, 62, 73, 97]\n"
     ]
    }
   ],
   "source": [
    "for i in ['TCGA','AAT','TT']:\n",
    "    print(f'the start location(s) for motif: {i} is {motif_finder(dna = DNA, motifs = i)}')"
   ]
  },
  {
   "cell_type": "markdown",
   "metadata": {},
   "source": [
    "# 3. Finding Common Overlapping Sequences between DNA strands\n",
    "Given these 99 base pair strands of DNA, return the longest sequence of overlap(s) between them. <br> <br>\n",
    "`3’-TACTCTCGTTCTTGCAGCTTGTCAGTACTTTCAGAATCATGGTGTGCATGGTAGAATGACTCTTATAACGAACTTCGACATGGCAATAACCCCCCGATT-5’` <br>\n",
    "`3'-AATGGCACTTTTTTACTTTTGTCCTTGAGAAGAGGAGACGTCAGTGCAGATATCTTTAATGTGGTAATTGGAAGGATTCTTGGCCCTCCACCCTTAGAC-5'` <br>\n",
    "`3'-AGTGTATACTCTTCTATAAACGAGCTATTAGTTATGACATCCGAAGATTCAAAAAGGTGAGCGAATTTGGCCGATCCGAAAAGACGGACTTCAAAGTTA-5'` <br>"
   ]
  },
  {
   "cell_type": "code",
   "execution_count": 4,
   "metadata": {},
   "outputs": [],
   "source": [
    "dna_strands = [\n",
    "    \"3’-TACTCTCGTTCTTGCAGCTTGTCAGTACTTTCAGAATCATGGTGTGCATGGTAGAATGACTCTTATAACGAACTTCGACATGGCAATAACCCCCCGATT-5'\",\n",
    "    \"3'-AATGGCACTTTTTTACTTTTGTCCTTGAGAAGAGGAGACGTCAGTGCAGATATCTTTAATGTGGTAATTGGAAGGATTCTTGGCCCTCCACCCTTAGAC-5'\",\n",
    "    \"3'-AGTGTATACTCTTCTATAAACGAGCTATTAGTTATGACATCCGAAGATTCAAAAAGGTGAGCGAATTTGGCCGATCCGAAAAGACGGACTTCAAAGTTA-5'\"\n",
    "    \n",
    "]"
   ]
  },
  {
   "cell_type": "code",
   "execution_count": 5,
   "metadata": {},
   "outputs": [
    {
     "data": {
      "text/plain": [
       "['TACTCTCGTTCTTGCAGCTTGTCAGTACTTTCAGAATCATGGTGTGCATGGTAGAATGACTCTTATAACGAACTTCGACATGGCAATAACCCCCCGATT',\n",
       " 'AATGGCACTTTTTTACTTTTGTCCTTGAGAAGAGGAGACGTCAGTGCAGATATCTTTAATGTGGTAATTGGAAGGATTCTTGGCCCTCCACCCTTAGAC',\n",
       " 'AGTGTATACTCTTCTATAAACGAGCTATTAGTTATGACATCCGAAGATTCAAAAAGGTGAGCGAATTTGGCCGATCCGAAAAGACGGACTTCAAAGTTA']"
      ]
     },
     "execution_count": 5,
     "metadata": {},
     "output_type": "execute_result"
    }
   ],
   "source": [
    "dna_strands = [i.split('-')[1] for i in dna_strands]\n",
    "dna_strands"
   ]
  },
  {
   "cell_type": "code",
   "execution_count": 6,
   "metadata": {},
   "outputs": [],
   "source": [
    "def dna_fragmenter(dna:str,fragment_length: int):\n",
    "    '''\n",
    "    Given a string, return a set of all X length fragments\n",
    "    '''\n",
    "    fragment_set = set()\n",
    "    for ind,nuc in enumerate(dna):\n",
    "        try:\n",
    "            fragment_set.add(dna[ind:ind+fragment_length])\n",
    "        except:\n",
    "            pass\n",
    "    fragment_set2 = {v for v in fragment_set if len(v)==fragment_length} # returns only the items that are specified length\n",
    "    return(fragment_set2)        "
   ]
  },
  {
   "cell_type": "code",
   "execution_count": 7,
   "metadata": {},
   "outputs": [],
   "source": [
    "def longest_overlap (dna_list:list):\n",
    "    '''\n",
    "    returns longest overlapping string of all items in dna_list\n",
    "    '''\n",
    "    overlap = 1\n",
    "    fragment_length = 2\n",
    "    longest_string = set()\n",
    "    \n",
    "    while overlap > 0:\n",
    "        longest2 = longest_string # creates memory of previous\n",
    "        set_list = [dna_fragmenter(dna,fragment_length) for dna in dna_list]\n",
    "        eval_str = ''\n",
    "        \n",
    "        for i in set_list:\n",
    "            eval_str = eval_str + f'{i}&'\n",
    "        \n",
    "        longest_string = eval(eval_str[0:-1])\n",
    "        overlap = len(longest_string)\n",
    "        fragment_length+=1\n",
    "            \n",
    "    return(longest2)"
   ]
  },
  {
   "cell_type": "code",
   "execution_count": 8,
   "metadata": {},
   "outputs": [
    {
     "data": {
      "text/plain": [
       "{'ACTT', 'GATT', 'TACT', 'TCTT', 'TGGC', 'TTCT'}"
      ]
     },
     "execution_count": 8,
     "metadata": {},
     "output_type": "execute_result"
    }
   ],
   "source": [
    "longest_overlap(dna_strands)"
   ]
  },
  {
   "cell_type": "markdown",
   "metadata": {},
   "source": [
    "# 4. Finding consensus sequence\n",
    "A consensus sequence is a DNA sequence of the most occuring nucleotide at a given position. Given the following five sequences, return a sequence with the most commonly occuring nucleotide at each given position. <br>\n",
    "For example: the most common nucleotide at position 0 is A because it occurs twice.\n",
    "\n",
    "`CCTGACGACAGTTGCGCGTCCGTATCAAAATCTTCTTAATAAGCCCCC` <br>\n",
    "`GTTACTGTTGGTTGAAGAGCCCAGAACGGATTGGCCAGATGTACAATT` <br>\n",
    "`ATATCACTTAATGACTTTTGGGTCACGGTGTGTTACCTTACAGGAATT` <br>\n",
    "`AGACCGTCCATTAATTTCCCTTGCATATATATTGCGTTTTTTTGTCTT` <br>\n",
    "`TTTTATCCGCTTACTTAGATAAAAGTGACATAGCTTCTTACCGAAACA` <br>"
   ]
  },
  {
   "cell_type": "code",
   "execution_count": 9,
   "metadata": {},
   "outputs": [],
   "source": [
    "v = 'CCTGACGACAGTTGCGCGTCCGTATCAAAATCTTCTTAATAAGCCCCC'\n",
    "w = 'GTTACTGTTGGTTGAAGAGCCCAGAACGGATTGGCCAGATGTACAATT'\n",
    "x = 'ATATCACTTAATGACTTTTGGGTCACGGTGTGTTACCTTACAGGAATT'\n",
    "y = 'AGACCGTCCATTAATTTCCCTTGCATATATATTGCGTTTTTTTGTCTT'\n",
    "z = 'TTTTATCCGCTTACTTAGATAAAAGTGACATAGCTTCTTACCGAAACA'"
   ]
  },
  {
   "cell_type": "code",
   "execution_count": 10,
   "metadata": {},
   "outputs": [],
   "source": [
    "dna_list = [v,w,x,y,z]"
   ]
  },
  {
   "cell_type": "code",
   "execution_count": 11,
   "metadata": {},
   "outputs": [],
   "source": [
    "def consensus (dna_list:list):\n",
    "    '''\n",
    "    given a list of DNA, get a sequence of the most commonly occurring nucleotide at each position.\n",
    "    return as a list as there is potential for two most common at a given position.\n",
    "    '''\n",
    "    max_index = max([len(i) for i in dna_list])\n",
    "    seq = list()\n",
    "    \n",
    "    for i in range(0,max_index):\n",
    "        counter = {'A':0,'T':0,'C':0,'G':0}\n",
    "        \n",
    "        for sequence in dna_list:\n",
    "            ind = sequence[i]\n",
    "            val = counter[ind]+1\n",
    "            counter.update({ind:val})\n",
    "        \n",
    "        max_count = max(counter.values())                                      #unpack the list to find max val\n",
    "        max_ind = [i for i,v in enumerate(counter.values()) if v == max_count] #get biggest nucleotide index \n",
    "        nucleotides = [list(counter.keys())[v] for v in max_ind]               #get biggest nucleotide  value\n",
    "        \n",
    "        nucleotides.sort()           #sort nucleotide by alphabetical\n",
    "        nucleotides = ''.join(nucleotides)\n",
    "        if len(nucleotides) == 1:\n",
    "            seq.append(nucleotides)\n",
    "        else:\n",
    "            other_coding = {\n",
    "                'CT':'Y',    #pyrimidines\n",
    "                'AG':'R',    #purines\n",
    "                'ACGT':'N',  #any\n",
    "                'AC':'[AC]', #A or C\n",
    "                'AT':'[AT]',\n",
    "                'CG':'[CG]',\n",
    "                'GT':'[GT]', #G or T\n",
    "                'CGT':'{A}', #everything but A\n",
    "                'AGT':'{C}',\n",
    "                'ACT':'{G}',\n",
    "                'ACG':'{T}'  #everything but T\n",
    "                           }\n",
    "            seq.append(other_coding[nucleotides])\n",
    "    return(seq)"
   ]
  },
  {
   "cell_type": "code",
   "execution_count": 12,
   "metadata": {
    "scrolled": true
   },
   "outputs": [
    {
     "data": {
      "text/plain": [
       "48"
      ]
     },
     "execution_count": 12,
     "metadata": {},
     "output_type": "execute_result"
    }
   ],
   "source": [
    "len(consensus(dna_list))"
   ]
  },
  {
   "cell_type": "code",
   "execution_count": 13,
   "metadata": {},
   "outputs": [
    {
     "name": "stdout",
     "output_type": "stream",
     "text": [
      "The consensus sequence is: ATTTCT[CG]YYA[GT]T[AT]RYTTGTCCG[AT][AC]AYRRAATTT[GT]CYYTTTC[AT]G[CG]AATT\n"
     ]
    }
   ],
   "source": [
    "print(f\"The consensus sequence is: {''.join(consensus(dna_list))}\")"
   ]
  },
  {
   "cell_type": "markdown",
   "metadata": {},
   "source": [
    "# 5. Making a directed graph\n",
    "A directed graph is a way to represent knowledge.  Nodes in a graph represents entities, and edges represent an action.  An example of an item in a directed graph is 'Gene Expresses Protein', where Gene and Protein are nodes, and Expresses is an edge. When combined at a large scale, you create a network, or graph of interconnected entities. <br>\n",
    "\n",
    "Here you will created a very basic directed graph using overlapping DNA sequences.  Using similar techniques to identify longest shared patterns, given these four sequences, identify which strands of DNA ends overlap. Note, all overlaps are <br> <br> \n",
    "For example, given these three sequence: <br>\n",
    "\\>SRA_1111 <br>\n",
    "AAATGCCC <br>\n",
    "\\>SRA_2222 <br>\n",
    "ATCGTAAA <br>\n",
    "\\>SRA_3333 <br>\n",
    "CCCTGTTT <br><br>\n",
    "Your output should be: <br>\n",
    "SRA_2222    SRA_1111 <br>\n",
    "SRA_1111    SRA_3333\n"
   ]
  },
  {
   "cell_type": "markdown",
   "metadata": {},
   "source": [
    "#### Sample Dataset\n",
    "\\>Sample_0001 <br>\n",
    "AACGTCAGTCCAGATATCTT<br>\n",
    "\\>Sample_0002 <br>\n",
    "ATCTTGGCCCTCCACCCTTA<br>\n",
    "\\>Sample_0003 <br>\n",
    "GACATTGTATACTCTTGATG<br>\n",
    "\\>Sample_0004 <br>\n",
    "TGATGTCGTGATTGGAACGT<br>\n",
    "\\>Sample_0005 <br>\n",
    "AACGTAGCTATTAGTTAGAC<br>"
   ]
  },
  {
   "cell_type": "code",
   "execution_count": 14,
   "metadata": {},
   "outputs": [],
   "source": [
    "samples = {\n",
    "    'Sample_0001':'AACGTCAGTCCAGATATCTT',\n",
    "    'Sample_0002':'ATCTTGGCCCTCCACCCTTA',\n",
    "    'Sample_0003':'GACATTGTATACTCTTGATG',\n",
    "    'Sample_0004':'TGATGTCGTGATTGGAACGT',\n",
    "    'Sample_0005':'AACGTAGCTATTAGTTAGAC',\n",
    "}"
   ]
  },
  {
   "cell_type": "code",
   "execution_count": 15,
   "metadata": {},
   "outputs": [],
   "source": [
    "import itertools as it"
   ]
  },
  {
   "cell_type": "code",
   "execution_count": 16,
   "metadata": {},
   "outputs": [
    {
     "data": {
      "text/plain": [
       "[('Sample_0001', 'Sample_0002'),\n",
       " ('Sample_0001', 'Sample_0003'),\n",
       " ('Sample_0001', 'Sample_0004'),\n",
       " ('Sample_0001', 'Sample_0005'),\n",
       " ('Sample_0002', 'Sample_0003'),\n",
       " ('Sample_0002', 'Sample_0004'),\n",
       " ('Sample_0002', 'Sample_0005'),\n",
       " ('Sample_0003', 'Sample_0004'),\n",
       " ('Sample_0003', 'Sample_0005'),\n",
       " ('Sample_0004', 'Sample_0005')]"
      ]
     },
     "execution_count": 16,
     "metadata": {},
     "output_type": "execute_result"
    }
   ],
   "source": [
    "[comb for comb in it.combinations(samples.keys(),2)] # generate a list of paired tuple combinations"
   ]
  },
  {
   "cell_type": "code",
   "execution_count": 17,
   "metadata": {},
   "outputs": [],
   "source": [
    "def matcher(tuple_list:list):\n",
    "    '''\n",
    "    Takes a list of paired tuples,\n",
    "    returns whether there is a match between the beginning or end of paired sequences\n",
    "    -1 means reverse is true\n",
    "    0 means no match\n",
    "    1 means forward is true\n",
    "    '''\n",
    "    result = []\n",
    "    \n",
    "    for item1,item2 in tuple_list:\n",
    "        val1 = samples[item1]\n",
    "        val2 = samples[item2]\n",
    "        overlap_str = list(longest_overlap([val1,val2]))\n",
    "        \n",
    "        if len(overlap_str[0])>=5:\n",
    "            v1 = motif_finder(dna=val1,motifs = overlap_str[0])[0] # return location within string of motif start\n",
    "            seq_length = len(val1)\n",
    "\n",
    "            if v1 == 0:\n",
    "                result.append(1)\n",
    "            elif v1>=seq_length-5:\n",
    "                result.append(-1)\n",
    "            else:\n",
    "                result.append(0)\n",
    "        else:\n",
    "            result.append(0)\n",
    "            \n",
    "    return(result)"
   ]
  },
  {
   "cell_type": "code",
   "execution_count": 18,
   "metadata": {},
   "outputs": [
    {
     "data": {
      "text/plain": [
       "[-1, 0, 1, 1, 0, 0, 0, -1, 0, -1]"
      ]
     },
     "execution_count": 18,
     "metadata": {},
     "output_type": "execute_result"
    }
   ],
   "source": [
    "matcher([comb for comb in it.combinations(samples.keys(),2)])"
   ]
  },
  {
   "cell_type": "code",
   "execution_count": 19,
   "metadata": {},
   "outputs": [],
   "source": [
    "def flip_or_not(tup:tuple,value:int):\n",
    "    '''\n",
    "    takes tuple and value and outputs the tuples in correct graph order\n",
    "    '''\n",
    "    k1,k2 = tup\n",
    "\n",
    "    res = None\n",
    "    if value == 1:\n",
    "        res = (k1,k2)\n",
    "    elif value == -1:\n",
    "        res = (k2,k1)\n",
    "    return(res)    "
   ]
  },
  {
   "cell_type": "code",
   "execution_count": 20,
   "metadata": {},
   "outputs": [],
   "source": [
    "def grapher(tup_list:list):\n",
    "    '''\n",
    "    takes a list of tuples and outputs the tuples in correct graph order\n",
    "    '''\n",
    "    to_out = set()\n",
    "    res = matcher(tup_list)\n",
    "\n",
    "    for i,v in enumerate(tup_list):\n",
    "        to_out.add(flip_or_not(v,res[i]))\n",
    "    to_out.remove(None)\n",
    "    \n",
    "    for k1,k2 in list(to_out):\n",
    "        print(f'{k1}    {k2}')\n",
    "    #return(to_out)"
   ]
  },
  {
   "cell_type": "code",
   "execution_count": 21,
   "metadata": {},
   "outputs": [
    {
     "name": "stdout",
     "output_type": "stream",
     "text": [
      "Sample_0004    Sample_0003\n",
      "Sample_0001    Sample_0004\n",
      "Sample_0001    Sample_0005\n",
      "Sample_0002    Sample_0001\n",
      "Sample_0005    Sample_0004\n"
     ]
    }
   ],
   "source": [
    "grapher([comb for comb in it.combinations(samples.keys(),2)])"
   ]
  },
  {
   "cell_type": "code",
   "execution_count": null,
   "metadata": {},
   "outputs": [],
   "source": []
  }
 ],
 "metadata": {
  "kernelspec": {
   "display_name": "Python 3",
   "language": "python",
   "name": "python3"
  },
  "language_info": {
   "codemirror_mode": {
    "name": "ipython",
    "version": 3
   },
   "file_extension": ".py",
   "mimetype": "text/x-python",
   "name": "python",
   "nbconvert_exporter": "python",
   "pygments_lexer": "ipython3",
   "version": "3.8.2"
  }
 },
 "nbformat": 4,
 "nbformat_minor": 4
}
