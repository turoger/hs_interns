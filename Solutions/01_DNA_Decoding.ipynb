{
 "cells": [
  {
   "cell_type": "markdown",
   "metadata": {},
   "source": [
    "# Bioinformatics Project #1\n",
    "## 1. Introduction\n",
    "\n",
    "At the heart of every living organism is DNA (deoxyribonucleic acid). It is double stranded and consists of 4 nucleotides, Adenine, Thymine, Cytosine, and Guanine (ATCG).  One strand runs from 5’ to 3’, the other 3’ to 5’, this is based on the orientation of the sugar/phosphate backbone.  Adenine and Guanine are purines, Thymine and Cytosine are pyrimidines.  Adenine always pairs with Thymine, and Guanine always pairs with Cytosine, vice-versa. <br> <br>\n",
    "\n",
    "Using python, you will be replicating the central dogma of Biology by taking a strand of DNA, and following it through replication, transcription, and translation.  Python skills will involve string manipulation, looping and basic calculations. <br>\n"
   ]
  },
  {
   "cell_type": "markdown",
   "metadata": {},
   "source": [
    "## 2. Counting DNA Base Pairs\n",
    "\n",
    "Given this 99 base pair 3’ strand of DNA, count the number of A, T, C, and G’s.  Return the counts as well as the total percentage of the nucleic acids. <br>\n",
    "\n",
    "Hint: you can store counts of items using a dictionary. `{‘A’:0,’T’:0...}`<br>\n",
    "\n",
    "`3’-TACTCTCGTTCTTGCAGCTTGTCAGTACTTTCAGAATCATGGTGTGCATGGTAGAATGACTCTTATAACGAACTTCGACATGGCAATAACCCCCCGATT-5’`\n"
   ]
  },
  {
   "cell_type": "code",
   "execution_count": 1,
   "metadata": {},
   "outputs": [],
   "source": [
    "dna_string = 'TACTCTCGTTCTTGCAGCTTGTCAGTACTTTCAGAATCATGGTGTGCATGGTAGAATGACTCTTATAACGAACTTCGACATGGCAATAACCCCCCGATT'"
   ]
  },
  {
   "cell_type": "code",
   "execution_count": 2,
   "metadata": {},
   "outputs": [],
   "source": [
    "dna_dict = {'A':0, 'T':0, 'C':0, 'G':0}"
   ]
  },
  {
   "cell_type": "code",
   "execution_count": 3,
   "metadata": {},
   "outputs": [],
   "source": [
    "for letter in dna_string:\n",
    "    value = dna_dict[letter]\n",
    "    value +=1\n",
    "    dna_dict.update({letter:value})"
   ]
  },
  {
   "cell_type": "code",
   "execution_count": 4,
   "metadata": {},
   "outputs": [
    {
     "name": "stdout",
     "output_type": "stream",
     "text": [
      "A occurs 25 times\n",
      "T occurs 31 times\n",
      "C occurs 24 times\n",
      "G occurs 19 times\n"
     ]
    }
   ],
   "source": [
    "for letter in dna_dict.keys():\n",
    "    print(f'{letter} occurs {dna_dict[letter]} times')"
   ]
  },
  {
   "cell_type": "code",
   "execution_count": 9,
   "metadata": {},
   "outputs": [
    {
     "name": "stdout",
     "output_type": "stream",
     "text": [
      "A is 25.25% of total string\n",
      "T is 31.31% of total string\n",
      "C is 24.24% of total string\n",
      "G is 19.19% of total string\n"
     ]
    }
   ],
   "source": [
    "string_sum = len(dna_string) # counts the number if items in the string.\n",
    "\n",
    "for letter in dna_dict.keys():\n",
    "    print(f'{letter} is {(int(dna_dict[letter])/string_sum)*100:.2f}% of total string') #':.2f' returns rounded 100th place"
   ]
  },
  {
   "cell_type": "markdown",
   "metadata": {},
   "source": [
    "## 3. Replication: Creating Complement DNA strands <br>\n",
    "\n",
    "Given the above 99 base pair template strand (3’ to 5’) of DNA, return the complementary coding strand. For example, if the template strand has an A, then your coding strand at the same position will be a T.\n"
   ]
  },
  {
   "cell_type": "code",
   "execution_count": 6,
   "metadata": {},
   "outputs": [],
   "source": [
    "comp_dict = {'A':'T','T':'A','C':'G','G':'C'} # dictionary of conversions for complement strand"
   ]
  },
  {
   "cell_type": "code",
   "execution_count": 7,
   "metadata": {},
   "outputs": [
    {
     "name": "stdout",
     "output_type": "stream",
     "text": [
      "complement strand is: ATGAGAGCAAGAACGTCGAACAGTCATGAAAGTCTTAGTACCACACGTACCATCTTACTGAGAATATTGCTTGAAGCTGTACCGTTATTGGGGGGCTAA\n"
     ]
    }
   ],
   "source": [
    "dna_complement = '' # initialize an empty string\n",
    "\n",
    "for letter in dna_string:\n",
    "    dna_complement = dna_complement + comp_dict[letter]\n",
    "    \n",
    "print(f'complement strand is: {dna_complement}')"
   ]
  },
  {
   "cell_type": "markdown",
   "metadata": {},
   "source": [
    "## 4. Transcription: Turning DNA to mRNA sequences \n",
    "\n",
    "RNA polymerase reads DNA from 3’ to 5’  direction. The mRNA created conversely is 5’ to 3’, the sequence should be the same as the coding strand except Thymine is replaced by Uracil. Return the transcribed mRNA fragment from the template strand of DNA.  Remember, A is paired with Uracil in mRNA. \n"
   ]
  },
  {
   "cell_type": "code",
   "execution_count": 8,
   "metadata": {},
   "outputs": [
    {
     "name": "stdout",
     "output_type": "stream",
     "text": [
      "mRNA strand is: AUGAGAGCAAGAACGUCGAACAGUCAUGAAAGUCUUAGUACCACACGUACCAUCUUACUGAGAAUAUUGCUUGAAGCUGUACCGUUAUUGGGGGGCUAA\n"
     ]
    }
   ],
   "source": [
    "# lazy way is to take the complement coding strand and change all the T's to U's\n",
    "mRNA = dna_complement.replace('T','U')\n",
    "print(f'mRNA strand is: {mRNA}')"
   ]
  },
  {
   "cell_type": "markdown",
   "metadata": {},
   "source": [
    "## 5. Translation: Converting mRNA sequences to proteins\n",
    "\n",
    "Protein translation occurs when ribosomes attach to the mRNA and bring in tRNA.  The tRNA has an amino acid attached to the protein.  These amino acids are fused together into a polypeptide to create a protein.  tRNA reads mRNA with a triplet coding system.  Using the below chart, Translate the mRNA into an amino acid chain.\n"
   ]
  },
  {
   "cell_type": "code",
   "execution_count": 10,
   "metadata": {},
   "outputs": [],
   "source": [
    "# create a translation dictionary\n",
    "translation = {\n",
    "    'UUU':'PHE','UUC':'PHE',\n",
    "    'UUA':'LEU','UUG':'LEU','CUU':'LEU','CUC':'LEU','CUA':'LEU','CUG':'LEU',\n",
    "    'AUU':'ILE','AUC':'ILE','AUA':'ILE',\n",
    "    'AUG':'MET',\n",
    "    'GUU':'VAL','GUC':'VAL','GUA':'VAL','GUG':'VAL',\n",
    "    'UCU':'SER','UCC':'SER','UCA':'SER','UCG':'SER',\n",
    "    'CCU':'PRO','CCC':'PRO','CCA':'PRO','CCG':'PRO',\n",
    "    'ACU':'THR','ACC':'THR','ACA':'THR','ACG':'THR',\n",
    "    'GCU':'ALA','GCC':'ALA','GCA':'ALA','GCG':'ALA',\n",
    "    'UAU':'TYR','UAC':'TYR',\n",
    "    'UAA':'STOP','UAG':'STOP','UGA':'STOP',\n",
    "    'CAU':'HIS','CAC':'HIS',\n",
    "    'CAA':'GLN','CAG':'GLN',\n",
    "    'AUA':'ASN','AAC':'ASN',\n",
    "    'AAA':'LYS','AAG':'LYS',\n",
    "    'GAU':'ASP','GAC':'ASP',\n",
    "    'GAA':'GLU','GAG':'GLU',\n",
    "    'UGU':'CYS','UGC':'CYS',\n",
    "    'UGG':'TRP',\n",
    "    'CGU':'ARG','CGC':'ARG','CGA':'ARG','CGG':'ARG',\n",
    "    'AGU':'SER','AGC':'SER',\n",
    "    'AGA':'ARG','AGG':'ARG',\n",
    "    'GGU':'GLY','GGC':'GLY','GGA':'GLY','GGG':'GLY'\n",
    "}"
   ]
  },
  {
   "cell_type": "code",
   "execution_count": 16,
   "metadata": {},
   "outputs": [
    {
     "data": {
      "text/plain": [
       "'MET ARG ALA ARG THR SER ASN SER HIS GLU SER LEU SER THR THR ARG THR ILE LEU LEU ARG ASN LEU LEU GLU ALA VAL PRO LEU LEU GLY GLY STOP '"
      ]
     },
     "execution_count": 16,
     "metadata": {},
     "output_type": "execute_result"
    }
   ],
   "source": [
    "split_mRNA = [mRNA[i:i+3] for i in range(0,len(mRNA),3)] # split mRNA into a list\n",
    "translated = [translation[i] for i in split_mRNA]        # iterate over list to get translation\n",
    "\n",
    "# return as a string\n",
    "AA_string = ''\n",
    "for i in translated:\n",
    "    AA_string = AA_string + i + ' '\n",
    "\n",
    "AA_string"
   ]
  },
  {
   "cell_type": "code",
   "execution_count": null,
   "metadata": {},
   "outputs": [],
   "source": []
  }
 ],
 "metadata": {
  "kernelspec": {
   "display_name": "Python 3",
   "language": "python",
   "name": "python3"
  },
  "language_info": {
   "codemirror_mode": {
    "name": "ipython",
    "version": 3
   },
   "file_extension": ".py",
   "mimetype": "text/x-python",
   "name": "python",
   "nbconvert_exporter": "python",
   "pygments_lexer": "ipython3",
   "version": "3.7.0"
  }
 },
 "nbformat": 4,
 "nbformat_minor": 4
}
