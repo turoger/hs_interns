{
 "cells": [
  {
   "cell_type": "markdown",
   "metadata": {},
   "source": [
    "# 1. Introduction\n",
    "\n",
    "In the nucleus, mRNA transcription is done by an enzyme called RNA polymerase (RNAP).  RNAP breaks the hydrogen bonds joining the base pairs of each strand of DNA.  RNAP then creates a pre-mRNA with the DNA template strand.  After several RNA nucleotides are conjugated together, the first separated complementary DNA bases bond back together.\n",
    "\n",
    "It is unclear whether an entire substring of DNA is transcribed into RNA then translated into peptides one at a time.  We know that a pre-mRNA is chopped into introns and exons; segments of mRNA that are thrown out, or kept.  The introns are tossed while exons are glued together sequentially to make the final mRNA.  The process of cutting and pasting is called splicing and is facilitated by RNA and proteins called a spliceosome.  \n",
    "\n",
    "A pre-mRNA sequence can undergo a process called “alternative splicing”, where a single pre-mRNA strand can be cut in different ways, with different fragments identified as introns and exons, in order to generate many different protein sequences from a single strand of mRNA.  This means a single pre-mRNA strand can yield multiple different protein fragments!\n",
    "\n",
    "Using python, you will be identifying the pitfalls of reverse translation, mRNA alternative splicing, alignment DNA reads, and finding protein motifs.\n",
    "\n",
    "**Note, while answers are provided, rarely when you’re working with biology will the answers be given to you.  Please work through the examples, and think about other examples that could be run through your code.  Check if those examples work too (and thereby checking your own understanding of the topic), if not, you’re still not done answering the question!  Do your best to generalize your code.  Avoid “hard-coding” your code to get the right answer. \n"
   ]
  },
  {
   "cell_type": "markdown",
   "metadata": {},
   "source": [
    "# 2. Pitfalls of Reverse Translation\n",
    "\n",
    "When researchers find a new protein, they identify the protein sequences using mass spectrometry.  Once a protein sequence is identified, they want to infer the mRNA strand that makes the protein.  This way, they can find the gene that is associated with the protein’s expression.  However, while a protein sequence can be reverse translated into a unique mRNA sequence, reverse translation yields thousands upon thousands of possible mRNA coding sequences as most amino acid sequences correspond to more than one set of codons.\n",
    "\n",
    "Given this 33 amino acid protein, return the potential number of mRNA sequences from the protein, then infer all possible iterations of  99 base pair mRNA strands that can result in the amino acid protein.    Ignore the potential of alternative splicing.\n"
   ]
  },
  {
   "cell_type": "markdown",
   "metadata": {},
   "source": [
    "`TDAPSRWICTLLDTHWFQSTSECMLQTEHDELN`\n",
    "\n",
    "Example:\n",
    "`GTECE`\n",
    "G - Glycine, T - Threonine, E - Glutamate, C - Cysteine <br>\n",
    "G has 4, T has 4, E has 2 and C has 2 possible outputs <br>\n",
    "Total possible combinations: 4 * 4 * 2 * 2 = 64 <br>\n",
    "Example mRNA strand: GGU ACU GAA UGU GAG <br>\n"
   ]
  },
  {
   "cell_type": "code",
   "execution_count": 1,
   "metadata": {},
   "outputs": [],
   "source": [
    "protein_str = 'TDAPSRWICTLLDTHWFQSTSECMLQTEHDELN'"
   ]
  },
  {
   "cell_type": "code",
   "execution_count": 2,
   "metadata": {},
   "outputs": [],
   "source": [
    "# translations\n",
    "translation = {\n",
    "    'UUU':'PHE','UUC':'PHE',\n",
    "    'UUA':'LEU','UUG':'LEU','CUU':'LEU','CUC':'LEU','CUA':'LEU','CUG':'LEU',\n",
    "    'AUU':'ILE','AUC':'ILE','AUA':'ILE',\n",
    "    'AUG':'MET',\n",
    "    'GUU':'VAL','GUC':'VAL','GUA':'VAL','GUG':'VAL',\n",
    "    'UCU':'SER','UCC':'SER','UCA':'SER','UCG':'SER',\n",
    "    'CCU':'PRO','CCC':'PRO','CCA':'PRO','CCG':'PRO',\n",
    "    'ACU':'THR','ACC':'THR','ACA':'THR','ACG':'THR',\n",
    "    'GCU':'ALA','GCC':'ALA','GCA':'ALA','GCG':'ALA',\n",
    "    'UAU':'TYR','UAC':'TYR',\n",
    "    'UAA':'STOP','UAG':'STOP','UGA':'STOP',\n",
    "    'CAU':'HIS','CAC':'HIS',\n",
    "    'CAA':'GLN','CAG':'GLN',\n",
    "    'AUA':'ASN','AAC':'ASN',\n",
    "    'AAA':'LYS','AAG':'LYS',\n",
    "    'GAU':'ASP','GAC':'ASP','AAU':'ASP',\n",
    "    'GAA':'GLU','GAG':'GLU',\n",
    "    'UGU':'CYS','UGC':'CYS',\n",
    "    'UGG':'TRP',\n",
    "    'CGU':'ARG','CGC':'ARG','CGA':'ARG','CGG':'ARG',\n",
    "    'AGU':'SER','AGC':'SER',\n",
    "    'AGA':'ARG','AGG':'ARG',\n",
    "    'GGU':'GLY','GGC':'GLY','GGA':'GLY','GGG':'GLY'\n",
    "}"
   ]
  },
  {
   "cell_type": "code",
   "execution_count": 3,
   "metadata": {},
   "outputs": [],
   "source": [
    "amino_acid_vals = dict() # dictionary of amino acid occurence.\n",
    "for i in translation.values():\n",
    "    try:\n",
    "        val = amino_acid_vals[i]+1\n",
    "        amino_acid_vals.update({i:val})\n",
    "    except:\n",
    "        amino_acid_vals.update({i:1})"
   ]
  },
  {
   "cell_type": "code",
   "execution_count": 4,
   "metadata": {},
   "outputs": [],
   "source": [
    "AAshort = {\n",
    "    'ALA':'A','ARG':'R','ASN':'N','ASP':'D','CYS':'C',\n",
    "    'GLU':'E','GLN':'Q','GLY':'G','HIS':'H','ILE':'I',\n",
    "    'LEU':'L','LYS':'K','MET':'M','PHE':'F','PRO':'P',\n",
    "    'SER':'S','THR':'T','TRP':'W','TYR':'Y','VAL':'V',\n",
    "    'STOP':'-'\n",
    "    }"
   ]
  },
  {
   "cell_type": "code",
   "execution_count": 5,
   "metadata": {},
   "outputs": [],
   "source": [
    "# create a dictionary of single to three letter code\n",
    "reverseAAshort = zip(AAshort.values(), AAshort.keys())\n",
    "reverseAAshort = dict(reverseAAshort)"
   ]
  },
  {
   "cell_type": "code",
   "execution_count": 6,
   "metadata": {},
   "outputs": [],
   "source": [
    "def possibleIter (protein:str):\n",
    "    '''\n",
    "    Takes a protein string, returns the total possible combinations\n",
    "    '''\n",
    "    AAshort = {\n",
    "    'ALA':'A','ARG':'R','ASN':'N','ASP':'D','CYS':'C',\n",
    "    'GLU':'E','GLN':'Q','GLY':'G','HIS':'H','ILE':'I',\n",
    "    'LEU':'L','LYS':'K','MET':'M','PHE':'F','PRO':'P',\n",
    "    'SER':'S','THR':'T','TRP':'W','TYR':'Y','VAL':'V',\n",
    "    'STOP':'-'\n",
    "    }\n",
    "    \n",
    "    # create a dictionary of single to three letter code\n",
    "    reverseAAshort = zip(AAshort.values(), AAshort.keys())\n",
    "    reverseAAshort = dict(reverseAAshort)\n",
    "    \n",
    "    # get counts of amino acids per triplet letter code\n",
    "    amino_acid_vals = dict() # dictionary of amino acid occurence.\n",
    "    for i in translation.values():\n",
    "        try:\n",
    "            val = amino_acid_vals[i]+1\n",
    "            amino_acid_vals.update({i:val})\n",
    "        except:\n",
    "            amino_acid_vals.update({i:1})\n",
    "    \n",
    "    # core function\n",
    "    combos = [amino_acid_vals[g] for g in [reverseAAshort[i] for i in protein]]    \n",
    "    \n",
    "    k = 1\n",
    "    for i in combos:\n",
    "        k = i*k\n",
    "    return(k)"
   ]
  },
  {
   "cell_type": "code",
   "execution_count": 7,
   "metadata": {},
   "outputs": [
    {
     "data": {
      "text/plain": [
       "3043362286338048"
      ]
     },
     "execution_count": 7,
     "metadata": {},
     "output_type": "execute_result"
    }
   ],
   "source": [
    "possibleIter(protein_str)"
   ]
  },
  {
   "cell_type": "markdown",
   "metadata": {},
   "source": [
    "#### How many possible first four combo's?"
   ]
  },
  {
   "cell_type": "code",
   "execution_count": 8,
   "metadata": {},
   "outputs": [
    {
     "data": {
      "text/plain": [
       "'TDAP'"
      ]
     },
     "execution_count": 8,
     "metadata": {},
     "output_type": "execute_result"
    }
   ],
   "source": [
    "protein_str[0:4] # first four letters"
   ]
  },
  {
   "cell_type": "code",
   "execution_count": 9,
   "metadata": {},
   "outputs": [
    {
     "data": {
      "text/plain": [
       "192"
      ]
     },
     "execution_count": 9,
     "metadata": {},
     "output_type": "execute_result"
    }
   ],
   "source": [
    "possibleIter(protein_str[0:4]) # possibilities"
   ]
  },
  {
   "cell_type": "code",
   "execution_count": 10,
   "metadata": {},
   "outputs": [
    {
     "name": "stdout",
     "output_type": "stream",
     "text": [
      "THR\n",
      "ASP\n",
      "ALA\n",
      "PRO\n"
     ]
    }
   ],
   "source": [
    "# return the names from the code\n",
    "for i in 'TDAP':\n",
    "    print(reverseAAshort[i])"
   ]
  },
  {
   "cell_type": "code",
   "execution_count": 11,
   "metadata": {},
   "outputs": [],
   "source": [
    "# create a reverse dictionary where code is the dict and AA is the key.\n",
    "reverse_trans = dict()\n",
    "for key, value in translation.items():\n",
    "    try:\n",
    "        new_val = reverse_trans[value]\n",
    "        new_val.append(key)\n",
    "        reverse_trans.update({value:new_val})\n",
    "\n",
    "    except:\n",
    "        reverse_trans.update({value:[key]})\n",
    "    "
   ]
  },
  {
   "cell_type": "code",
   "execution_count": 12,
   "metadata": {
    "scrolled": true
   },
   "outputs": [
    {
     "data": {
      "text/plain": [
       "{'PHE': ['UUU', 'UUC'],\n",
       " 'LEU': ['UUA', 'UUG', 'CUU', 'CUC', 'CUA', 'CUG'],\n",
       " 'ILE': ['AUU', 'AUC'],\n",
       " 'ASN': ['AUA', 'AAC'],\n",
       " 'MET': ['AUG'],\n",
       " 'VAL': ['GUU', 'GUC', 'GUA', 'GUG'],\n",
       " 'SER': ['UCU', 'UCC', 'UCA', 'UCG', 'AGU', 'AGC'],\n",
       " 'PRO': ['CCU', 'CCC', 'CCA', 'CCG'],\n",
       " 'THR': ['ACU', 'ACC', 'ACA', 'ACG'],\n",
       " 'ALA': ['GCU', 'GCC', 'GCA', 'GCG'],\n",
       " 'TYR': ['UAU', 'UAC'],\n",
       " 'STOP': ['UAA', 'UAG', 'UGA'],\n",
       " 'HIS': ['CAU', 'CAC'],\n",
       " 'GLN': ['CAA', 'CAG'],\n",
       " 'LYS': ['AAA', 'AAG'],\n",
       " 'ASP': ['GAU', 'GAC', 'AAU'],\n",
       " 'GLU': ['GAA', 'GAG'],\n",
       " 'CYS': ['UGU', 'UGC'],\n",
       " 'TRP': ['UGG'],\n",
       " 'ARG': ['CGU', 'CGC', 'CGA', 'CGG', 'AGA', 'AGG'],\n",
       " 'GLY': ['GGU', 'GGC', 'GGA', 'GGG']}"
      ]
     },
     "execution_count": 12,
     "metadata": {},
     "output_type": "execute_result"
    }
   ],
   "source": [
    "reverse_trans"
   ]
  },
  {
   "cell_type": "markdown",
   "metadata": {},
   "source": [
    "#### Two different ways to do it.\n",
    "1. Through list comprehension\n",
    "2. Through itertools product."
   ]
  },
  {
   "cell_type": "code",
   "execution_count": 13,
   "metadata": {},
   "outputs": [],
   "source": [
    "res = [(i, j, k, l) \n",
    "       for i in reverse_trans['THR']\n",
    "       for j in reverse_trans['ASP'] \n",
    "       for k in reverse_trans['ALA']\n",
    "       for l in reverse_trans['PRO']\n",
    "      ]"
   ]
  },
  {
   "cell_type": "code",
   "execution_count": 14,
   "metadata": {},
   "outputs": [],
   "source": [
    "def aa_permutator(aa_list:list):\n",
    "    '''\n",
    "    given list of x length, return all possible combinations of amino acids based on their 3 letter code.\n",
    "    '''\n",
    "    from itertools import product as pro\n",
    "    return(list(pro(*aa_list)))"
   ]
  },
  {
   "cell_type": "code",
   "execution_count": 15,
   "metadata": {},
   "outputs": [
    {
     "data": {
      "text/plain": [
       "[('ACU', 'GAU', 'GCU', 'CCU'),\n",
       " ('ACU', 'GAU', 'GCU', 'CCC'),\n",
       " ('ACU', 'GAU', 'GCU', 'CCA'),\n",
       " ('ACU', 'GAU', 'GCU', 'CCG'),\n",
       " ('ACU', 'GAU', 'GCC', 'CCU'),\n",
       " ('ACU', 'GAU', 'GCC', 'CCC'),\n",
       " ('ACU', 'GAU', 'GCC', 'CCA'),\n",
       " ('ACU', 'GAU', 'GCC', 'CCG'),\n",
       " ('ACU', 'GAU', 'GCA', 'CCU'),\n",
       " ('ACU', 'GAU', 'GCA', 'CCC'),\n",
       " ('ACU', 'GAU', 'GCA', 'CCA'),\n",
       " ('ACU', 'GAU', 'GCA', 'CCG'),\n",
       " ('ACU', 'GAU', 'GCG', 'CCU'),\n",
       " ('ACU', 'GAU', 'GCG', 'CCC'),\n",
       " ('ACU', 'GAU', 'GCG', 'CCA'),\n",
       " ('ACU', 'GAU', 'GCG', 'CCG'),\n",
       " ('ACU', 'GAC', 'GCU', 'CCU'),\n",
       " ('ACU', 'GAC', 'GCU', 'CCC'),\n",
       " ('ACU', 'GAC', 'GCU', 'CCA'),\n",
       " ('ACU', 'GAC', 'GCU', 'CCG'),\n",
       " ('ACU', 'GAC', 'GCC', 'CCU'),\n",
       " ('ACU', 'GAC', 'GCC', 'CCC'),\n",
       " ('ACU', 'GAC', 'GCC', 'CCA'),\n",
       " ('ACU', 'GAC', 'GCC', 'CCG'),\n",
       " ('ACU', 'GAC', 'GCA', 'CCU'),\n",
       " ('ACU', 'GAC', 'GCA', 'CCC'),\n",
       " ('ACU', 'GAC', 'GCA', 'CCA'),\n",
       " ('ACU', 'GAC', 'GCA', 'CCG'),\n",
       " ('ACU', 'GAC', 'GCG', 'CCU'),\n",
       " ('ACU', 'GAC', 'GCG', 'CCC'),\n",
       " ('ACU', 'GAC', 'GCG', 'CCA'),\n",
       " ('ACU', 'GAC', 'GCG', 'CCG'),\n",
       " ('ACU', 'AAU', 'GCU', 'CCU'),\n",
       " ('ACU', 'AAU', 'GCU', 'CCC'),\n",
       " ('ACU', 'AAU', 'GCU', 'CCA'),\n",
       " ('ACU', 'AAU', 'GCU', 'CCG'),\n",
       " ('ACU', 'AAU', 'GCC', 'CCU'),\n",
       " ('ACU', 'AAU', 'GCC', 'CCC'),\n",
       " ('ACU', 'AAU', 'GCC', 'CCA'),\n",
       " ('ACU', 'AAU', 'GCC', 'CCG'),\n",
       " ('ACU', 'AAU', 'GCA', 'CCU'),\n",
       " ('ACU', 'AAU', 'GCA', 'CCC'),\n",
       " ('ACU', 'AAU', 'GCA', 'CCA'),\n",
       " ('ACU', 'AAU', 'GCA', 'CCG'),\n",
       " ('ACU', 'AAU', 'GCG', 'CCU'),\n",
       " ('ACU', 'AAU', 'GCG', 'CCC'),\n",
       " ('ACU', 'AAU', 'GCG', 'CCA'),\n",
       " ('ACU', 'AAU', 'GCG', 'CCG'),\n",
       " ('ACC', 'GAU', 'GCU', 'CCU'),\n",
       " ('ACC', 'GAU', 'GCU', 'CCC'),\n",
       " ('ACC', 'GAU', 'GCU', 'CCA'),\n",
       " ('ACC', 'GAU', 'GCU', 'CCG'),\n",
       " ('ACC', 'GAU', 'GCC', 'CCU'),\n",
       " ('ACC', 'GAU', 'GCC', 'CCC'),\n",
       " ('ACC', 'GAU', 'GCC', 'CCA'),\n",
       " ('ACC', 'GAU', 'GCC', 'CCG'),\n",
       " ('ACC', 'GAU', 'GCA', 'CCU'),\n",
       " ('ACC', 'GAU', 'GCA', 'CCC'),\n",
       " ('ACC', 'GAU', 'GCA', 'CCA'),\n",
       " ('ACC', 'GAU', 'GCA', 'CCG'),\n",
       " ('ACC', 'GAU', 'GCG', 'CCU'),\n",
       " ('ACC', 'GAU', 'GCG', 'CCC'),\n",
       " ('ACC', 'GAU', 'GCG', 'CCA'),\n",
       " ('ACC', 'GAU', 'GCG', 'CCG'),\n",
       " ('ACC', 'GAC', 'GCU', 'CCU'),\n",
       " ('ACC', 'GAC', 'GCU', 'CCC'),\n",
       " ('ACC', 'GAC', 'GCU', 'CCA'),\n",
       " ('ACC', 'GAC', 'GCU', 'CCG'),\n",
       " ('ACC', 'GAC', 'GCC', 'CCU'),\n",
       " ('ACC', 'GAC', 'GCC', 'CCC'),\n",
       " ('ACC', 'GAC', 'GCC', 'CCA'),\n",
       " ('ACC', 'GAC', 'GCC', 'CCG'),\n",
       " ('ACC', 'GAC', 'GCA', 'CCU'),\n",
       " ('ACC', 'GAC', 'GCA', 'CCC'),\n",
       " ('ACC', 'GAC', 'GCA', 'CCA'),\n",
       " ('ACC', 'GAC', 'GCA', 'CCG'),\n",
       " ('ACC', 'GAC', 'GCG', 'CCU'),\n",
       " ('ACC', 'GAC', 'GCG', 'CCC'),\n",
       " ('ACC', 'GAC', 'GCG', 'CCA'),\n",
       " ('ACC', 'GAC', 'GCG', 'CCG'),\n",
       " ('ACC', 'AAU', 'GCU', 'CCU'),\n",
       " ('ACC', 'AAU', 'GCU', 'CCC'),\n",
       " ('ACC', 'AAU', 'GCU', 'CCA'),\n",
       " ('ACC', 'AAU', 'GCU', 'CCG'),\n",
       " ('ACC', 'AAU', 'GCC', 'CCU'),\n",
       " ('ACC', 'AAU', 'GCC', 'CCC'),\n",
       " ('ACC', 'AAU', 'GCC', 'CCA'),\n",
       " ('ACC', 'AAU', 'GCC', 'CCG'),\n",
       " ('ACC', 'AAU', 'GCA', 'CCU'),\n",
       " ('ACC', 'AAU', 'GCA', 'CCC'),\n",
       " ('ACC', 'AAU', 'GCA', 'CCA'),\n",
       " ('ACC', 'AAU', 'GCA', 'CCG'),\n",
       " ('ACC', 'AAU', 'GCG', 'CCU'),\n",
       " ('ACC', 'AAU', 'GCG', 'CCC'),\n",
       " ('ACC', 'AAU', 'GCG', 'CCA'),\n",
       " ('ACC', 'AAU', 'GCG', 'CCG'),\n",
       " ('ACA', 'GAU', 'GCU', 'CCU'),\n",
       " ('ACA', 'GAU', 'GCU', 'CCC'),\n",
       " ('ACA', 'GAU', 'GCU', 'CCA'),\n",
       " ('ACA', 'GAU', 'GCU', 'CCG'),\n",
       " ('ACA', 'GAU', 'GCC', 'CCU'),\n",
       " ('ACA', 'GAU', 'GCC', 'CCC'),\n",
       " ('ACA', 'GAU', 'GCC', 'CCA'),\n",
       " ('ACA', 'GAU', 'GCC', 'CCG'),\n",
       " ('ACA', 'GAU', 'GCA', 'CCU'),\n",
       " ('ACA', 'GAU', 'GCA', 'CCC'),\n",
       " ('ACA', 'GAU', 'GCA', 'CCA'),\n",
       " ('ACA', 'GAU', 'GCA', 'CCG'),\n",
       " ('ACA', 'GAU', 'GCG', 'CCU'),\n",
       " ('ACA', 'GAU', 'GCG', 'CCC'),\n",
       " ('ACA', 'GAU', 'GCG', 'CCA'),\n",
       " ('ACA', 'GAU', 'GCG', 'CCG'),\n",
       " ('ACA', 'GAC', 'GCU', 'CCU'),\n",
       " ('ACA', 'GAC', 'GCU', 'CCC'),\n",
       " ('ACA', 'GAC', 'GCU', 'CCA'),\n",
       " ('ACA', 'GAC', 'GCU', 'CCG'),\n",
       " ('ACA', 'GAC', 'GCC', 'CCU'),\n",
       " ('ACA', 'GAC', 'GCC', 'CCC'),\n",
       " ('ACA', 'GAC', 'GCC', 'CCA'),\n",
       " ('ACA', 'GAC', 'GCC', 'CCG'),\n",
       " ('ACA', 'GAC', 'GCA', 'CCU'),\n",
       " ('ACA', 'GAC', 'GCA', 'CCC'),\n",
       " ('ACA', 'GAC', 'GCA', 'CCA'),\n",
       " ('ACA', 'GAC', 'GCA', 'CCG'),\n",
       " ('ACA', 'GAC', 'GCG', 'CCU'),\n",
       " ('ACA', 'GAC', 'GCG', 'CCC'),\n",
       " ('ACA', 'GAC', 'GCG', 'CCA'),\n",
       " ('ACA', 'GAC', 'GCG', 'CCG'),\n",
       " ('ACA', 'AAU', 'GCU', 'CCU'),\n",
       " ('ACA', 'AAU', 'GCU', 'CCC'),\n",
       " ('ACA', 'AAU', 'GCU', 'CCA'),\n",
       " ('ACA', 'AAU', 'GCU', 'CCG'),\n",
       " ('ACA', 'AAU', 'GCC', 'CCU'),\n",
       " ('ACA', 'AAU', 'GCC', 'CCC'),\n",
       " ('ACA', 'AAU', 'GCC', 'CCA'),\n",
       " ('ACA', 'AAU', 'GCC', 'CCG'),\n",
       " ('ACA', 'AAU', 'GCA', 'CCU'),\n",
       " ('ACA', 'AAU', 'GCA', 'CCC'),\n",
       " ('ACA', 'AAU', 'GCA', 'CCA'),\n",
       " ('ACA', 'AAU', 'GCA', 'CCG'),\n",
       " ('ACA', 'AAU', 'GCG', 'CCU'),\n",
       " ('ACA', 'AAU', 'GCG', 'CCC'),\n",
       " ('ACA', 'AAU', 'GCG', 'CCA'),\n",
       " ('ACA', 'AAU', 'GCG', 'CCG'),\n",
       " ('ACG', 'GAU', 'GCU', 'CCU'),\n",
       " ('ACG', 'GAU', 'GCU', 'CCC'),\n",
       " ('ACG', 'GAU', 'GCU', 'CCA'),\n",
       " ('ACG', 'GAU', 'GCU', 'CCG'),\n",
       " ('ACG', 'GAU', 'GCC', 'CCU'),\n",
       " ('ACG', 'GAU', 'GCC', 'CCC'),\n",
       " ('ACG', 'GAU', 'GCC', 'CCA'),\n",
       " ('ACG', 'GAU', 'GCC', 'CCG'),\n",
       " ('ACG', 'GAU', 'GCA', 'CCU'),\n",
       " ('ACG', 'GAU', 'GCA', 'CCC'),\n",
       " ('ACG', 'GAU', 'GCA', 'CCA'),\n",
       " ('ACG', 'GAU', 'GCA', 'CCG'),\n",
       " ('ACG', 'GAU', 'GCG', 'CCU'),\n",
       " ('ACG', 'GAU', 'GCG', 'CCC'),\n",
       " ('ACG', 'GAU', 'GCG', 'CCA'),\n",
       " ('ACG', 'GAU', 'GCG', 'CCG'),\n",
       " ('ACG', 'GAC', 'GCU', 'CCU'),\n",
       " ('ACG', 'GAC', 'GCU', 'CCC'),\n",
       " ('ACG', 'GAC', 'GCU', 'CCA'),\n",
       " ('ACG', 'GAC', 'GCU', 'CCG'),\n",
       " ('ACG', 'GAC', 'GCC', 'CCU'),\n",
       " ('ACG', 'GAC', 'GCC', 'CCC'),\n",
       " ('ACG', 'GAC', 'GCC', 'CCA'),\n",
       " ('ACG', 'GAC', 'GCC', 'CCG'),\n",
       " ('ACG', 'GAC', 'GCA', 'CCU'),\n",
       " ('ACG', 'GAC', 'GCA', 'CCC'),\n",
       " ('ACG', 'GAC', 'GCA', 'CCA'),\n",
       " ('ACG', 'GAC', 'GCA', 'CCG'),\n",
       " ('ACG', 'GAC', 'GCG', 'CCU'),\n",
       " ('ACG', 'GAC', 'GCG', 'CCC'),\n",
       " ('ACG', 'GAC', 'GCG', 'CCA'),\n",
       " ('ACG', 'GAC', 'GCG', 'CCG'),\n",
       " ('ACG', 'AAU', 'GCU', 'CCU'),\n",
       " ('ACG', 'AAU', 'GCU', 'CCC'),\n",
       " ('ACG', 'AAU', 'GCU', 'CCA'),\n",
       " ('ACG', 'AAU', 'GCU', 'CCG'),\n",
       " ('ACG', 'AAU', 'GCC', 'CCU'),\n",
       " ('ACG', 'AAU', 'GCC', 'CCC'),\n",
       " ('ACG', 'AAU', 'GCC', 'CCA'),\n",
       " ('ACG', 'AAU', 'GCC', 'CCG'),\n",
       " ('ACG', 'AAU', 'GCA', 'CCU'),\n",
       " ('ACG', 'AAU', 'GCA', 'CCC'),\n",
       " ('ACG', 'AAU', 'GCA', 'CCA'),\n",
       " ('ACG', 'AAU', 'GCA', 'CCG'),\n",
       " ('ACG', 'AAU', 'GCG', 'CCU'),\n",
       " ('ACG', 'AAU', 'GCG', 'CCC'),\n",
       " ('ACG', 'AAU', 'GCG', 'CCA'),\n",
       " ('ACG', 'AAU', 'GCG', 'CCG')]"
      ]
     },
     "execution_count": 15,
     "metadata": {},
     "output_type": "execute_result"
    }
   ],
   "source": [
    "aa_permutator([reverse_trans['THR'],reverse_trans['ASP'],reverse_trans['ALA'],reverse_trans['PRO']])"
   ]
  },
  {
   "cell_type": "code",
   "execution_count": 16,
   "metadata": {},
   "outputs": [
    {
     "data": {
      "text/plain": [
       "['ACUGAUGCUCCU',\n",
       " 'ACUGAUGCUCCC',\n",
       " 'ACUGAUGCUCCA',\n",
       " 'ACUGAUGCUCCG',\n",
       " 'ACUGAUGCCCCU',\n",
       " 'ACUGAUGCCCCC',\n",
       " 'ACUGAUGCCCCA',\n",
       " 'ACUGAUGCCCCG',\n",
       " 'ACUGAUGCACCU',\n",
       " 'ACUGAUGCACCC',\n",
       " 'ACUGAUGCACCA',\n",
       " 'ACUGAUGCACCG',\n",
       " 'ACUGAUGCGCCU',\n",
       " 'ACUGAUGCGCCC',\n",
       " 'ACUGAUGCGCCA',\n",
       " 'ACUGAUGCGCCG',\n",
       " 'ACUGACGCUCCU',\n",
       " 'ACUGACGCUCCC',\n",
       " 'ACUGACGCUCCA',\n",
       " 'ACUGACGCUCCG',\n",
       " 'ACUGACGCCCCU',\n",
       " 'ACUGACGCCCCC',\n",
       " 'ACUGACGCCCCA',\n",
       " 'ACUGACGCCCCG',\n",
       " 'ACUGACGCACCU',\n",
       " 'ACUGACGCACCC',\n",
       " 'ACUGACGCACCA',\n",
       " 'ACUGACGCACCG',\n",
       " 'ACUGACGCGCCU',\n",
       " 'ACUGACGCGCCC',\n",
       " 'ACUGACGCGCCA',\n",
       " 'ACUGACGCGCCG',\n",
       " 'ACUAAUGCUCCU',\n",
       " 'ACUAAUGCUCCC',\n",
       " 'ACUAAUGCUCCA',\n",
       " 'ACUAAUGCUCCG',\n",
       " 'ACUAAUGCCCCU',\n",
       " 'ACUAAUGCCCCC',\n",
       " 'ACUAAUGCCCCA',\n",
       " 'ACUAAUGCCCCG',\n",
       " 'ACUAAUGCACCU',\n",
       " 'ACUAAUGCACCC',\n",
       " 'ACUAAUGCACCA',\n",
       " 'ACUAAUGCACCG',\n",
       " 'ACUAAUGCGCCU',\n",
       " 'ACUAAUGCGCCC',\n",
       " 'ACUAAUGCGCCA',\n",
       " 'ACUAAUGCGCCG',\n",
       " 'ACCGAUGCUCCU',\n",
       " 'ACCGAUGCUCCC',\n",
       " 'ACCGAUGCUCCA',\n",
       " 'ACCGAUGCUCCG',\n",
       " 'ACCGAUGCCCCU',\n",
       " 'ACCGAUGCCCCC',\n",
       " 'ACCGAUGCCCCA',\n",
       " 'ACCGAUGCCCCG',\n",
       " 'ACCGAUGCACCU',\n",
       " 'ACCGAUGCACCC',\n",
       " 'ACCGAUGCACCA',\n",
       " 'ACCGAUGCACCG',\n",
       " 'ACCGAUGCGCCU',\n",
       " 'ACCGAUGCGCCC',\n",
       " 'ACCGAUGCGCCA',\n",
       " 'ACCGAUGCGCCG',\n",
       " 'ACCGACGCUCCU',\n",
       " 'ACCGACGCUCCC',\n",
       " 'ACCGACGCUCCA',\n",
       " 'ACCGACGCUCCG',\n",
       " 'ACCGACGCCCCU',\n",
       " 'ACCGACGCCCCC',\n",
       " 'ACCGACGCCCCA',\n",
       " 'ACCGACGCCCCG',\n",
       " 'ACCGACGCACCU',\n",
       " 'ACCGACGCACCC',\n",
       " 'ACCGACGCACCA',\n",
       " 'ACCGACGCACCG',\n",
       " 'ACCGACGCGCCU',\n",
       " 'ACCGACGCGCCC',\n",
       " 'ACCGACGCGCCA',\n",
       " 'ACCGACGCGCCG',\n",
       " 'ACCAAUGCUCCU',\n",
       " 'ACCAAUGCUCCC',\n",
       " 'ACCAAUGCUCCA',\n",
       " 'ACCAAUGCUCCG',\n",
       " 'ACCAAUGCCCCU',\n",
       " 'ACCAAUGCCCCC',\n",
       " 'ACCAAUGCCCCA',\n",
       " 'ACCAAUGCCCCG',\n",
       " 'ACCAAUGCACCU',\n",
       " 'ACCAAUGCACCC',\n",
       " 'ACCAAUGCACCA',\n",
       " 'ACCAAUGCACCG',\n",
       " 'ACCAAUGCGCCU',\n",
       " 'ACCAAUGCGCCC',\n",
       " 'ACCAAUGCGCCA',\n",
       " 'ACCAAUGCGCCG',\n",
       " 'ACAGAUGCUCCU',\n",
       " 'ACAGAUGCUCCC',\n",
       " 'ACAGAUGCUCCA',\n",
       " 'ACAGAUGCUCCG',\n",
       " 'ACAGAUGCCCCU',\n",
       " 'ACAGAUGCCCCC',\n",
       " 'ACAGAUGCCCCA',\n",
       " 'ACAGAUGCCCCG',\n",
       " 'ACAGAUGCACCU',\n",
       " 'ACAGAUGCACCC',\n",
       " 'ACAGAUGCACCA',\n",
       " 'ACAGAUGCACCG',\n",
       " 'ACAGAUGCGCCU',\n",
       " 'ACAGAUGCGCCC',\n",
       " 'ACAGAUGCGCCA',\n",
       " 'ACAGAUGCGCCG',\n",
       " 'ACAGACGCUCCU',\n",
       " 'ACAGACGCUCCC',\n",
       " 'ACAGACGCUCCA',\n",
       " 'ACAGACGCUCCG',\n",
       " 'ACAGACGCCCCU',\n",
       " 'ACAGACGCCCCC',\n",
       " 'ACAGACGCCCCA',\n",
       " 'ACAGACGCCCCG',\n",
       " 'ACAGACGCACCU',\n",
       " 'ACAGACGCACCC',\n",
       " 'ACAGACGCACCA',\n",
       " 'ACAGACGCACCG',\n",
       " 'ACAGACGCGCCU',\n",
       " 'ACAGACGCGCCC',\n",
       " 'ACAGACGCGCCA',\n",
       " 'ACAGACGCGCCG',\n",
       " 'ACAAAUGCUCCU',\n",
       " 'ACAAAUGCUCCC',\n",
       " 'ACAAAUGCUCCA',\n",
       " 'ACAAAUGCUCCG',\n",
       " 'ACAAAUGCCCCU',\n",
       " 'ACAAAUGCCCCC',\n",
       " 'ACAAAUGCCCCA',\n",
       " 'ACAAAUGCCCCG',\n",
       " 'ACAAAUGCACCU',\n",
       " 'ACAAAUGCACCC',\n",
       " 'ACAAAUGCACCA',\n",
       " 'ACAAAUGCACCG',\n",
       " 'ACAAAUGCGCCU',\n",
       " 'ACAAAUGCGCCC',\n",
       " 'ACAAAUGCGCCA',\n",
       " 'ACAAAUGCGCCG',\n",
       " 'ACGGAUGCUCCU',\n",
       " 'ACGGAUGCUCCC',\n",
       " 'ACGGAUGCUCCA',\n",
       " 'ACGGAUGCUCCG',\n",
       " 'ACGGAUGCCCCU',\n",
       " 'ACGGAUGCCCCC',\n",
       " 'ACGGAUGCCCCA',\n",
       " 'ACGGAUGCCCCG',\n",
       " 'ACGGAUGCACCU',\n",
       " 'ACGGAUGCACCC',\n",
       " 'ACGGAUGCACCA',\n",
       " 'ACGGAUGCACCG',\n",
       " 'ACGGAUGCGCCU',\n",
       " 'ACGGAUGCGCCC',\n",
       " 'ACGGAUGCGCCA',\n",
       " 'ACGGAUGCGCCG',\n",
       " 'ACGGACGCUCCU',\n",
       " 'ACGGACGCUCCC',\n",
       " 'ACGGACGCUCCA',\n",
       " 'ACGGACGCUCCG',\n",
       " 'ACGGACGCCCCU',\n",
       " 'ACGGACGCCCCC',\n",
       " 'ACGGACGCCCCA',\n",
       " 'ACGGACGCCCCG',\n",
       " 'ACGGACGCACCU',\n",
       " 'ACGGACGCACCC',\n",
       " 'ACGGACGCACCA',\n",
       " 'ACGGACGCACCG',\n",
       " 'ACGGACGCGCCU',\n",
       " 'ACGGACGCGCCC',\n",
       " 'ACGGACGCGCCA',\n",
       " 'ACGGACGCGCCG',\n",
       " 'ACGAAUGCUCCU',\n",
       " 'ACGAAUGCUCCC',\n",
       " 'ACGAAUGCUCCA',\n",
       " 'ACGAAUGCUCCG',\n",
       " 'ACGAAUGCCCCU',\n",
       " 'ACGAAUGCCCCC',\n",
       " 'ACGAAUGCCCCA',\n",
       " 'ACGAAUGCCCCG',\n",
       " 'ACGAAUGCACCU',\n",
       " 'ACGAAUGCACCC',\n",
       " 'ACGAAUGCACCA',\n",
       " 'ACGAAUGCACCG',\n",
       " 'ACGAAUGCGCCU',\n",
       " 'ACGAAUGCGCCC',\n",
       " 'ACGAAUGCGCCA',\n",
       " 'ACGAAUGCGCCG']"
      ]
     },
     "execution_count": 16,
     "metadata": {},
     "output_type": "execute_result"
    }
   ],
   "source": [
    "[f'{i[0]}{i[1]}{i[2]}{i[3]}'for i in aa_permutator([reverse_trans['THR'],reverse_trans['ASP'],reverse_trans['ALA'],reverse_trans['PRO']])]"
   ]
  },
  {
   "cell_type": "markdown",
   "metadata": {},
   "source": [
    "# 3. Alternative Splicing\n",
    "\n",
    "Alternative splicing is the process in which introns in the pre-mRNA are removed and the remaining exon sequences are pasted together.\n",
    "\n",
    "Given the following  DNA coding sequence, return the pre-mRNA sequence.  Next remove the introns for each set and return the corresponding mRNA and its amino acid sequences. Use '-' for stop.\n",
    "\n",
    "`'TACTCTCGTTCTTGCAGCTTGTCAGTACTTTCAGAATCATGGTGTGCATGGTAGAATGACTCTTATAACGAACTTCGACATGGCAATAACCCCCCGATTAATGGCACTTTTTTACTTTTGTCCTTGAGAAGAGGAGACGTCAGTGCAGATATCTTTAATGTGGTAATTGGAAGGATTCTTGGCCCTCCACCCTTAGAC'`\n",
    "\n",
    "INTRON SET 1: <br>\n",
    "`‘CGTTCTTGC’` <br>\n",
    "`‘TGTCCTTGAGAAGAGGAG’` <br>\n",
    "`‘TATAACGAACTTCGACATGGCAAT’` <br>\n",
    "\n",
    "INTRON SET 2: <br>\n",
    "`‘CTTTCAGAATCATGGTGTGCATGGTAGAATGACTC’` <br>\n",
    "`‘CCCCGATTAATGGCACTT’` <br>\n",
    "`‘CCCTCCACCCTTA’` <br>\n"
   ]
  },
  {
   "cell_type": "code",
   "execution_count": 17,
   "metadata": {},
   "outputs": [],
   "source": [
    "dna = 'TACTCTCGTTCTTGCAGCTTGTCAGTACTTTCAGAATCATGGTGTGCATGGTAGAATGACTCTTATAACGAACTTCGACATGGCAATAACCCCCCGATTAATGGCACTTTTTTACTTTTGTCCTTGAGAAGAGGAGACGTCAGTGCAGATATCTTTAATGTGGTAATTGGAAGGATTCTTGGCCCTCCACCCTTAGAC'\n",
    "intron01 = ['CGTTCTTGC','TGTCCTTGAGAAGAGGAG','TATAACGAACTTCGACATGGCAAT']\n",
    "intron02 = ['CTTTCAGAATCATGGTGTGCATGGTAGAATGACTC','CCCCGATTAATGGCACTT','CCCTCCACCCTTA']"
   ]
  },
  {
   "cell_type": "code",
   "execution_count": 18,
   "metadata": {},
   "outputs": [],
   "source": [
    "def alt_splicer(host:str,introns:list):\n",
    "    '''\n",
    "    given a host strand, remove introns from host.\n",
    "    '''\n",
    "    x = host\n",
    "    for i in introns:\n",
    "        x = x.replace(i,'')\n",
    "    return(x)"
   ]
  },
  {
   "cell_type": "code",
   "execution_count": 19,
   "metadata": {},
   "outputs": [],
   "source": [
    "def dna_to_rna(dna:str):\n",
    "    '''\n",
    "    takes a dna coding strand input and returns it as mRNA\n",
    "    replaces all T's with U's\n",
    "    '''\n",
    "    return(dna.replace('T','U'))\n",
    "        "
   ]
  },
  {
   "cell_type": "code",
   "execution_count": 20,
   "metadata": {},
   "outputs": [
    {
     "data": {
      "text/plain": [
       "'UACUCUCGUUCUUGCAGCUUGUCAGUACUUUCAGAAUCAUGGUGUGCAUGGUAGAAUGACUCUUAUAACGAACUUCGACAUGGCAAUAACCCCCCGAUUAAUGGCACUUUUUUACUUUUGUCCUUGAGAAGAGGAGACGUCAGUGCAGAUAUCUUUAAUGUGGUAAUUGGAAGGAUUCUUGGCCCUCCACCCUUAGAC'"
      ]
     },
     "execution_count": 20,
     "metadata": {},
     "output_type": "execute_result"
    }
   ],
   "source": [
    "dna_to_rna(dna=dna)"
   ]
  },
  {
   "cell_type": "code",
   "execution_count": 21,
   "metadata": {},
   "outputs": [],
   "source": [
    "def rna_to_pro(dna:str):\n",
    "    '''\n",
    "    takes a dna coding strand, turns it into mRNA, and returns the protein as simplified protein code.\n",
    "    '''\n",
    "    mRNA = dna_to_rna(dna)                              # returns mRNA strand\n",
    "    mRNA2 = [mRNA[i:i+3] for i in range(0,len(mRNA),3)] # splits into 3 letter amino acid sequence\n",
    "    mRNA3 = [translation[i] for i in mRNA2]             # translate into 3 letter code\n",
    "    mRNA4 = [AAshort[i] for i in mRNA3]                 # single letter code\n",
    "    aa = ''\n",
    "    for i in mRNA4:\n",
    "        aa = aa+i\n",
    "    return (aa)\n",
    "    "
   ]
  },
  {
   "cell_type": "code",
   "execution_count": 22,
   "metadata": {},
   "outputs": [
    {
     "data": {
      "text/plain": [
       "'YSRSCSLSVLSESWCAW-DDSYNELRHGDNPPIDGTFLLLSLRRGDVSADIFDVVIGRILGPPPLD'"
      ]
     },
     "execution_count": 22,
     "metadata": {},
     "output_type": "execute_result"
    }
   ],
   "source": [
    "rna_to_pro(dna)"
   ]
  },
  {
   "cell_type": "code",
   "execution_count": 23,
   "metadata": {},
   "outputs": [
    {
     "data": {
      "text/plain": [
       "'YSSLSVLSESWCAW-DDSNPPIDGTFLLYVSADIFDVVIGRILGPPPLD'"
      ]
     },
     "execution_count": 23,
     "metadata": {},
     "output_type": "execute_result"
    }
   ],
   "source": [
    "#intron1\n",
    "rna_to_pro(alt_splicer(host = dna, introns = intron01))"
   ]
  },
  {
   "cell_type": "code",
   "execution_count": 24,
   "metadata": {},
   "outputs": [
    {
     "data": {
      "text/plain": [
       "'YSRSCSLSVL-RTSTWQ-PFTFVLEKRRRQCRYL-CGDWKDSWD'"
      ]
     },
     "execution_count": 24,
     "metadata": {},
     "output_type": "execute_result"
    }
   ],
   "source": [
    "#intron2\n",
    "rna_to_pro(alt_splicer(host = dna, introns = intron02))"
   ]
  },
  {
   "cell_type": "markdown",
   "metadata": {},
   "source": [
    "# 4. DNA Alignment Round 2\n",
    "\n",
    "Determining an organism's complete genome is a central theme of bioinformatics.  It is impossible to sequence the entire genome in one go, therefore genomes are sequenced piecewise from much smaller snippets of DNA called reads.  Once multiple collection of reads are generated from an organism's DNA, the desired genome from these small pieces of DNA are reconstructed. This process is called fragment assembly.\n",
    "\n",
    "Given the following collection of strings, a larger super string will contain every one of the smaller strings.  The shortest possible superstring over a collection of reads serves as the most likely DNA construct.  The data should have only one unique way to reconstruct the DNA by piecing together pairs of reads that overlap by half their length.\n",
    "\n",
    "Sequences:\n",
    "\n",
    "`TACTCTCGTTCTTGCAGCTT` <br>\n",
    "`GTCAGTACTTTCAGAATCAT` <br>\n",
    "`GGTGTGCATGGTAGAATGAC` <br>\n",
    "`TCTTATAACGAACTTCGACA` <br>\n",
    "`TGGCAATACCCCCCGATTAA` <br>\n",
    "`TGGCACTTTTTTACTTTTGT` <br>\n",
    "`CCTTGAGAAGAGGAGACGTC` <br>\n",
    "`AGTGCAGATATCTTTAATGC` <br>\n",
    "`CTTGCAGCTTGTCAGTACTT` <br>\n",
    "`TCAGAATCATGGTGTGCATG` <br>\n",
    "`GTAGAATGACTCTTATAACG` <br>\n",
    "`AACTTCGACATGGCAATACC` <br>\n",
    "`CCCCGATTAATGGCACTTTT` <br>\n",
    "`TTACTTTTGTCCTTGAGAAG` <br>\n",
    "`AGGAGACGTCAGTGCAGATA` <br>\n"
   ]
  },
  {
   "cell_type": "code",
   "execution_count": 25,
   "metadata": {},
   "outputs": [],
   "source": [
    "a = 'TACTCTCGTTCTTGCAGCTT'\n",
    "b = 'GTCAGTACTTTCAGAATCAT'\n",
    "c = 'GGTGTGCATGGTAGAATGAC'\n",
    "d = 'TCTTATAACGAACTTCGACA'\n",
    "e = 'TGGCAATACCCCCCGATTAA'\n",
    "f = 'TGGCACTTTTTTACTTTTGT'\n",
    "g = 'CCTTGAGAAGAGGAGACGTC'\n",
    "h = 'AGTGCAGATATCTTTAATGC'\n",
    "i = 'CTTGCAGCTTGTCAGTACTT'\n",
    "j = 'TCAGAATCATGGTGTGCATG'\n",
    "k = 'GTAGAATGACTCTTATAACG'\n",
    "l = 'AACTTCGACATGGCAATACC'\n",
    "m = 'CCCCGATTAATGGCACTTTT'\n",
    "n = 'TTACTTTTGTCCTTGAGAAG'\n",
    "o = 'AGGAGACGTCAGTGCAGATA'"
   ]
  },
  {
   "cell_type": "code",
   "execution_count": 26,
   "metadata": {},
   "outputs": [],
   "source": [
    "import itertools as it\n",
    "combos = list(it.combinations([a,b,c,d,e,f,g,h,i,j,k,l,m,n,o],2)) # yields combinations"
   ]
  },
  {
   "cell_type": "code",
   "execution_count": 27,
   "metadata": {},
   "outputs": [],
   "source": [
    "# get combinations, will be a list of tuples\n",
    "def get_combo(seq_list:list):\n",
    "    '''get combinations of all pairs'''\n",
    "    from itertools import combinations as comb\n",
    "    return(comb(seq_list,2))"
   ]
  },
  {
   "cell_type": "code",
   "execution_count": 28,
   "metadata": {},
   "outputs": [],
   "source": [
    "def fragmenter(seq:str, n:int):\n",
    "    '''create sets of strings given size'''\n",
    "    fragment_set = set()\n",
    "    for ind, val in enumerate(seq):\n",
    "        try:\n",
    "            fragment_set.add(seq[ind:ind+n])\n",
    "        except:\n",
    "            pass\n",
    "    fragment_set02 = {v for v in fragment_set if len(v) == n}\n",
    "    return(fragment_set02)"
   ]
  },
  {
   "cell_type": "code",
   "execution_count": 29,
   "metadata": {},
   "outputs": [],
   "source": [
    "# create function that checks overlap, Overlap must be at ends and at least 50%of og string len\n",
    "# return tuple in correct order of overlap\n",
    "\n",
    "def overlap_check(atup:tuple):\n",
    "    '''\n",
    "    Checks for overlap, then checks if overlaps are at the end, return the \"longest overlap\" (some may be\n",
    "    unexpectedly short)'''\n",
    "    in_0 = atup[0] # tuple at index 0\n",
    "    in_1 = atup[1] # tuple at index 1\n",
    "\n",
    "    ## finds overlap\n",
    "    overlap = 1\n",
    "    fragment_length = 2\n",
    "    longest_string = set()\n",
    "    \n",
    "    while overlap > 0:\n",
    "        longest2 = longest_string # creates memory of previous\n",
    "        frag_0 = fragmenter(in_0,fragment_length)\n",
    "        frag_1 = fragmenter(in_1,fragment_length) \n",
    "        longest_string = set(frag_0) & set(frag_1)\n",
    "        overlap = len(longest_string)\n",
    "        fragment_length+=1\n",
    "        \n",
    "\n",
    "    ## finds if overlap exists in beginning or end of sequence keep it.\n",
    "    longest3=[]\n",
    "    for i in list(longest2):\n",
    "        dist = len(i)\n",
    "        if (in_0[0:dist+1]==i or in_0[-dist:]==i) and (in_1[0:dist+1]==i or in_1[-dist:]):\n",
    "            longest3.append(i)\n",
    "            \n",
    "    longest3 = sorted(longest3,key= len)\n",
    "    try:\n",
    "        res = longest3[-1]\n",
    "    except:\n",
    "        res = None\n",
    "    return (res)\n",
    "\n",
    "def order(atup:tuple):\n",
    "    '''returns tuple in proper head tail order'''\n",
    "    in_0 = atup[0]\n",
    "    in_1 = atup[1]\n",
    "    try:\n",
    "        over = overlap_check(atup) #sequence that is overlapping\n",
    "        dist = len(over)           #length of overlapping seq\n",
    "        if in_0[-dist:] == over:\n",
    "            res = (in_0,in_1)\n",
    "        else:\n",
    "            res = (in_1,in_2)\n",
    "        return(res)\n",
    "    except:\n",
    "        pass"
   ]
  },
  {
   "cell_type": "code",
   "execution_count": 30,
   "metadata": {},
   "outputs": [
    {
     "data": {
      "text/plain": [
       "('tttaaacccggg', 'gggaaatttccc')"
      ]
     },
     "execution_count": 30,
     "metadata": {},
     "output_type": "execute_result"
    }
   ],
   "source": [
    "order(('tttaaacccggg','gggaaatttccc'))"
   ]
  },
  {
   "cell_type": "code",
   "execution_count": 31,
   "metadata": {},
   "outputs": [],
   "source": [
    "# combine to create new string\n",
    "def combine (atup:tuple):\n",
    "    '''combines the tuples at a correct order and aligned at the end'''\n",
    "    value = order(atup)        # make sure sequence is in proper order\n",
    "    over = overlap_check(atup) # get the overlap\n",
    "    try:\n",
    "        value[0]==''\n",
    "        value[1]==''\n",
    "        try:\n",
    "            #print(f'Part1: {value[0]}\\nOverlap: {over}\\nPart2: {value[1]}')\n",
    "            return(f'{value[0].replace(over,\"\")}{over}{value[1].replace(over,\"\")}')\n",
    "        except:\n",
    "            pass\n",
    "    except:\n",
    "        pass"
   ]
  },
  {
   "cell_type": "code",
   "execution_count": 32,
   "metadata": {},
   "outputs": [
    {
     "data": {
      "text/plain": [
       "['TACTCTCGTTCTTGCAGCTTGTCAGTACTT',\n",
       " 'GTCAGTACTTTCAGAATCATGGTGTGCATG',\n",
       " 'GGTGTGCATGGTAGAATGACTCTTATAACG',\n",
       " 'TCTTATAACGAACTTCGACATGGCAATACC',\n",
       " 'TGGCAATACCCCCCGATTAATGGCACTTTT',\n",
       " 'TGGCACTTTTTTACTTTTGTCCTTGAGAAG',\n",
       " 'CCTTGAGAAGAGGAGACGTCAGTGCAGATA',\n",
       " 'GCAGGTCAGTACTTGTAGAATGACTATAACG',\n",
       " 'TACTCTCGTTGCAGCTTAACGACATGGCAATACC',\n",
       " 'TACTCTCGTTGCAGCTTCCCCGATTAATGGCATT',\n",
       " 'CCCCGATTAATGGCACTTTTTTGTCCTTGAGAAG',\n",
       " 'CTTGCAGCTTGTCAGTACTTTTTGTCCTTGAGAAG',\n",
       " 'TGGCTACCCCCCGATTAACCTTGAGGAGGAGACGTC',\n",
       " 'TGGCAATACCCCCCGATTAAAGTGCAGATATCTTGC',\n",
       " 'CTTGCAGCTTGTCAGTACTTACGACATGGCAATACC',\n",
       " 'CTTGCAGCTTGTCAGTACTTCCCCGATTAATGGCTT',\n",
       " 'GGTGTGCATGGTAGAATGACTCTTATAACGAACTTCA',\n",
       " 'TGGCAATACCCCCCGATTAAGTAGAATGACTCTTACG',\n",
       " 'TGGCACTTTTTTACTTTTGTTCAGAATCATGGGCATG',\n",
       " 'GTAGAATGACTCTTATAACGAGGAGTCAGTGCAGATA']"
      ]
     },
     "execution_count": 32,
     "metadata": {},
     "output_type": "execute_result"
    }
   ],
   "source": [
    "# Running the function you get different lengths, from 30 to 37. Longer length means shorter overlap, so restrict\n",
    "# to the shortest length!!\n",
    "sorted([combine(i) for i in get_combo([a,b,c,d,e,f,g,h,i,j,k,l,m,n,o]) if combine(i)!=None],key = len)"
   ]
  },
  {
   "cell_type": "code",
   "execution_count": 33,
   "metadata": {},
   "outputs": [],
   "source": [
    "def minimizer(alist:list):\n",
    "    '''takes a list and returns results that are the minimum'''\n",
    "    minimum = min([len(i) for i in sorted(alist,key = len)])\n",
    "    new_res = [val for val in sorted(alist,key=len) if len(val)==minimum]\n",
    "    return(new_res)"
   ]
  },
  {
   "cell_type": "code",
   "execution_count": 34,
   "metadata": {},
   "outputs": [],
   "source": [
    "def an_iterator(alist:list):\n",
    "    '''takes a list and keeps reducing until you get a list of 1'''\n",
    "    x = 2\n",
    "    z = alist\n",
    "    while x != 1:\n",
    "        y = minimizer([combine(i) for i in get_combo(z) if combine(i)!=None])\n",
    "        z = y\n",
    "        x = len(y)\n",
    "    return(y)"
   ]
  },
  {
   "cell_type": "code",
   "execution_count": 35,
   "metadata": {},
   "outputs": [
    {
     "data": {
      "text/plain": [
       "['TACTCTCGTTCTTGCAGCTTGTCAGTACTTTCAGAATCATGGTGTGCATGGTAGAATGACTCTTATAACGAACTTCGACATGGCAATACCCCCCGATTAATGGCACTTTTTTACTTTTGTCCTTGAGAAGAGGAGACGTCAGTGCAGATA']"
      ]
     },
     "execution_count": 35,
     "metadata": {},
     "output_type": "execute_result"
    }
   ],
   "source": [
    "an_iterator([a,b,c,d,e,f,g,h,i,j,k,l,m,n,o])"
   ]
  },
  {
   "cell_type": "markdown",
   "metadata": {},
   "source": [
    "#### If you want to see it work one step at a time...."
   ]
  },
  {
   "cell_type": "code",
   "execution_count": 36,
   "metadata": {},
   "outputs": [
    {
     "data": {
      "text/plain": [
       "['TACTCTCGTTCTTGCAGCTTGTCAGTACTT',\n",
       " 'GTCAGTACTTTCAGAATCATGGTGTGCATG',\n",
       " 'GGTGTGCATGGTAGAATGACTCTTATAACG',\n",
       " 'TCTTATAACGAACTTCGACATGGCAATACC',\n",
       " 'TGGCAATACCCCCCGATTAATGGCACTTTT',\n",
       " 'TGGCACTTTTTTACTTTTGTCCTTGAGAAG',\n",
       " 'CCTTGAGAAGAGGAGACGTCAGTGCAGATA']"
      ]
     },
     "execution_count": 36,
     "metadata": {},
     "output_type": "execute_result"
    }
   ],
   "source": [
    "minimizer([combine(i) for i in get_combo([a,b,c,d,e,f,g,h,i,j,k,l,m,n,o]) if combine(i)!=None])"
   ]
  },
  {
   "cell_type": "code",
   "execution_count": 37,
   "metadata": {
    "scrolled": true
   },
   "outputs": [
    {
     "data": {
      "text/plain": [
       "['TACTCTCGTTCTTGCAGCTTGTCAGTACTTTCAGAATCATGGTGTGCATG',\n",
       " 'GTCAGTACTTTCAGAATCATGGTGTGCATGGTAGAATGACTCTTATAACG',\n",
       " 'GGTGTGCATGGTAGAATGACTCTTATAACGAACTTCGACATGGCAATACC',\n",
       " 'TCTTATAACGAACTTCGACATGGCAATACCCCCCGATTAATGGCACTTTT',\n",
       " 'TGGCAATACCCCCCGATTAATGGCACTTTTTTACTTTTGTCCTTGAGAAG',\n",
       " 'TGGCACTTTTTTACTTTTGTCCTTGAGAAGAGGAGACGTCAGTGCAGATA']"
      ]
     },
     "execution_count": 37,
     "metadata": {},
     "output_type": "execute_result"
    }
   ],
   "source": [
    "minimizer([combine(i) for i in get_combo(['TACTCTCGTTCTTGCAGCTTGTCAGTACTT',\n",
    " 'GTCAGTACTTTCAGAATCATGGTGTGCATG',\n",
    " 'GGTGTGCATGGTAGAATGACTCTTATAACG',\n",
    " 'TCTTATAACGAACTTCGACATGGCAATACC',\n",
    " 'TGGCAATACCCCCCGATTAATGGCACTTTT',\n",
    " 'TGGCACTTTTTTACTTTTGTCCTTGAGAAG',\n",
    " 'CCTTGAGAAGAGGAGACGTCAGTGCAGATA']) if combine(i)!=None])"
   ]
  },
  {
   "cell_type": "code",
   "execution_count": 38,
   "metadata": {
    "scrolled": true
   },
   "outputs": [
    {
     "data": {
      "text/plain": [
       "['TACTCTCGTTCTTGCAGCTTGTCAGTACTTTCAGAATCATGGTGTGCATGGTAGAATGACTCTTATAACG',\n",
       " 'GTCAGTACTTTCAGAATCATGGTGTGCATGGTAGAATGACTCTTATAACGAACTTCGACATGGCAATACC',\n",
       " 'GGTGTGCATGGTAGAATGACTCTTATAACGAACTTCGACATGGCAATACCCCCCGATTAATGGCACTTTT',\n",
       " 'TCTTATAACGAACTTCGACATGGCAATACCCCCCGATTAATGGCACTTTTTTACTTTTGTCCTTGAGAAG',\n",
       " 'TGGCAATACCCCCCGATTAATGGCACTTTTTTACTTTTGTCCTTGAGAAGAGGAGACGTCAGTGCAGATA']"
      ]
     },
     "execution_count": 38,
     "metadata": {},
     "output_type": "execute_result"
    }
   ],
   "source": [
    "minimizer([combine(i) for i in get_combo(['TACTCTCGTTCTTGCAGCTTGTCAGTACTTTCAGAATCATGGTGTGCATG',\n",
    " 'GTCAGTACTTTCAGAATCATGGTGTGCATGGTAGAATGACTCTTATAACG',\n",
    " 'GGTGTGCATGGTAGAATGACTCTTATAACGAACTTCGACATGGCAATACC',\n",
    " 'TCTTATAACGAACTTCGACATGGCAATACCCCCCGATTAATGGCACTTTT',\n",
    " 'TGGCAATACCCCCCGATTAATGGCACTTTTTTACTTTTGTCCTTGAGAAG',\n",
    " 'TGGCACTTTTTTACTTTTGTCCTTGAGAAGAGGAGACGTCAGTGCAGATA']) if combine(i)!=None])"
   ]
  },
  {
   "cell_type": "code",
   "execution_count": 39,
   "metadata": {
    "scrolled": true
   },
   "outputs": [
    {
     "data": {
      "text/plain": [
       "['TACTCTCGTTCTTGCAGCTTGTCAGTACTTTCAGAATCATGGTGTGCATGGTAGAATGACTCTTATAACGAACTTCGACATGGCAATACC',\n",
       " 'GTCAGTACTTTCAGAATCATGGTGTGCATGGTAGAATGACTCTTATAACGAACTTCGACATGGCAATACCCCCCGATTAATGGCACTTTT',\n",
       " 'GGTGTGCATGGTAGAATGACTCTTATAACGAACTTCGACATGGCAATACCCCCCGATTAATGGCACTTTTTTACTTTTGTCCTTGAGAAG',\n",
       " 'TCTTATAACGAACTTCGACATGGCAATACCCCCCGATTAATGGCACTTTTTTACTTTTGTCCTTGAGAAGAGGAGACGTCAGTGCAGATA']"
      ]
     },
     "execution_count": 39,
     "metadata": {},
     "output_type": "execute_result"
    }
   ],
   "source": [
    "minimizer([combine(i) for i in get_combo(['TACTCTCGTTCTTGCAGCTTGTCAGTACTTTCAGAATCATGGTGTGCATGGTAGAATGACTCTTATAACG',\n",
    " 'GTCAGTACTTTCAGAATCATGGTGTGCATGGTAGAATGACTCTTATAACGAACTTCGACATGGCAATACC',\n",
    " 'GGTGTGCATGGTAGAATGACTCTTATAACGAACTTCGACATGGCAATACCCCCCGATTAATGGCACTTTT',\n",
    " 'TCTTATAACGAACTTCGACATGGCAATACCCCCCGATTAATGGCACTTTTTTACTTTTGTCCTTGAGAAG',\n",
    " 'TGGCAATACCCCCCGATTAATGGCACTTTTTTACTTTTGTCCTTGAGAAGAGGAGACGTCAGTGCAGATA']) if combine(i)!=None])"
   ]
  },
  {
   "cell_type": "code",
   "execution_count": 40,
   "metadata": {
    "scrolled": true
   },
   "outputs": [
    {
     "data": {
      "text/plain": [
       "['TACTCTCGTTCTTGCAGCTTGTCAGTACTTTCAGAATCATGGTGTGCATGGTAGAATGACTCTTATAACGAACTTCGACATGGCAATACCCCCCGATTAATGGCACTTTT',\n",
       " 'GTCAGTACTTTCAGAATCATGGTGTGCATGGTAGAATGACTCTTATAACGAACTTCGACATGGCAATACCCCCCGATTAATGGCACTTTTTTACTTTTGTCCTTGAGAAG',\n",
       " 'GGTGTGCATGGTAGAATGACTCTTATAACGAACTTCGACATGGCAATACCCCCCGATTAATGGCACTTTTTTACTTTTGTCCTTGAGAAGAGGAGACGTCAGTGCAGATA']"
      ]
     },
     "execution_count": 40,
     "metadata": {},
     "output_type": "execute_result"
    }
   ],
   "source": [
    "minimizer([combine(i) for i in get_combo(\n",
    "    ['TACTCTCGTTCTTGCAGCTTGTCAGTACTTTCAGAATCATGGTGTGCATGGTAGAATGACTCTTATAACGAACTTCGACATGGCAATACC',\n",
    " 'GTCAGTACTTTCAGAATCATGGTGTGCATGGTAGAATGACTCTTATAACGAACTTCGACATGGCAATACCCCCCGATTAATGGCACTTTT',\n",
    " 'GGTGTGCATGGTAGAATGACTCTTATAACGAACTTCGACATGGCAATACCCCCCGATTAATGGCACTTTTTTACTTTTGTCCTTGAGAAG',\n",
    " 'TCTTATAACGAACTTCGACATGGCAATACCCCCCGATTAATGGCACTTTTTTACTTTTGTCCTTGAGAAGAGGAGACGTCAGTGCAGATA']\n",
    "    ) if combine(i)!=None])"
   ]
  },
  {
   "cell_type": "code",
   "execution_count": 41,
   "metadata": {
    "scrolled": true
   },
   "outputs": [
    {
     "data": {
      "text/plain": [
       "['TACTCTCGTTCTTGCAGCTTGTCAGTACTTTCAGAATCATGGTGTGCATGGTAGAATGACTCTTATAACGAACTTCGACATGGCAATACCCCCCGATTAATGGCACTTTTTTACTTTTGTCCTTGAGAAG',\n",
       " 'GTCAGTACTTTCAGAATCATGGTGTGCATGGTAGAATGACTCTTATAACGAACTTCGACATGGCAATACCCCCCGATTAATGGCACTTTTTTACTTTTGTCCTTGAGAAGAGGAGACGTCAGTGCAGATA']"
      ]
     },
     "execution_count": 41,
     "metadata": {},
     "output_type": "execute_result"
    }
   ],
   "source": [
    "minimizer([combine(i) for i in get_combo(\n",
    "    ['TACTCTCGTTCTTGCAGCTTGTCAGTACTTTCAGAATCATGGTGTGCATGGTAGAATGACTCTTATAACGAACTTCGACATGGCAATACCCCCCGATTAATGGCACTTTT',\n",
    " 'GTCAGTACTTTCAGAATCATGGTGTGCATGGTAGAATGACTCTTATAACGAACTTCGACATGGCAATACCCCCCGATTAATGGCACTTTTTTACTTTTGTCCTTGAGAAG',\n",
    " 'GGTGTGCATGGTAGAATGACTCTTATAACGAACTTCGACATGGCAATACCCCCCGATTAATGGCACTTTTTTACTTTTGTCCTTGAGAAGAGGAGACGTCAGTGCAGATA']\n",
    "    ) if combine(i)!=None])"
   ]
  },
  {
   "cell_type": "code",
   "execution_count": 42,
   "metadata": {},
   "outputs": [
    {
     "data": {
      "text/plain": [
       "['TACTCTCGTTCTTGCAGCTTGTCAGTACTTTCAGAATCATGGTGTGCATGGTAGAATGACTCTTATAACGAACTTCGACATGGCAATACCCCCCGATTAATGGCACTTTTTTACTTTTGTCCTTGAGAAGAGGAGACGTCAGTGCAGATA']"
      ]
     },
     "execution_count": 42,
     "metadata": {},
     "output_type": "execute_result"
    }
   ],
   "source": [
    "minimizer([combine(i) for i in get_combo(\n",
    "   ['TACTCTCGTTCTTGCAGCTTGTCAGTACTTTCAGAATCATGGTGTGCATGGTAGAATGACTCTTATAACGAACTTCGACATGGCAATACCCCCCGATTAATGGCACTTTTTTACTTTTGTCCTTGAGAAG',\n",
    " 'GTCAGTACTTTCAGAATCATGGTGTGCATGGTAGAATGACTCTTATAACGAACTTCGACATGGCAATACCCCCCGATTAATGGCACTTTTTTACTTTTGTCCTTGAGAAGAGGAGACGTCAGTGCAGATA']\n",
    "    ) if combine(i)!=None])"
   ]
  },
  {
   "cell_type": "code",
   "execution_count": 43,
   "metadata": {},
   "outputs": [
    {
     "data": {
      "text/plain": [
       "150"
      ]
     },
     "execution_count": 43,
     "metadata": {},
     "output_type": "execute_result"
    }
   ],
   "source": [
    "len('TACTCTCGTTCTTGCAGCTTGTCAGTACTTTCAGAATCATGGTGTGCATGGTAGAATGACTCTTATAACGAACTTCGACATGGCAATACCCCCCGATTAATGGCACTTTTTTACTTTTGTCCTTGAGAAGAGGAGACGTCAGTGCAGATA')"
   ]
  },
  {
   "cell_type": "markdown",
   "metadata": {},
   "source": [
    "# 5. Finding Glycosylated Protein Motifs (future)\n",
    "\n",
    "http://rosalind.info/problems/mprt/\n",
    "Just like DNA have motif’s, proteins also have motifs (also known as blocks, signatures, fingerprints etc).  Protein motifs are evolutionarily conserved, which means that they don’t change very much between species.\n",
    "\n",
    "Much is known about proteins and data about them are stored in many different freely accessible databases. One of these databases is UniPro, which provides protein annotations on function description, domain structure and post-translational modifications. \n",
    "\n",
    "### A. Name that protein\n",
    "Given the following protein names, 1. look up the protein on Uniprot and find proteins possessing the N-glycosylation motif, 2. Output those access ID’s followed by the location in the protein string where the motif can be found. \n",
    "\n",
    "### B. Protein motifs\n",
    "Given the protein names, return a protein string that is represented by its shorthand notation.  For example [TY] means ‘either Threonine or Tyrosine’ and {W} means ‘all amino acids except for Tryptophan’.\n"
   ]
  },
  {
   "cell_type": "code",
   "execution_count": null,
   "metadata": {},
   "outputs": [],
   "source": []
  },
  {
   "cell_type": "code",
   "execution_count": null,
   "metadata": {},
   "outputs": [],
   "source": []
  }
 ],
 "metadata": {
  "kernelspec": {
   "display_name": "Python 3",
   "language": "python",
   "name": "python3"
  },
  "language_info": {
   "codemirror_mode": {
    "name": "ipython",
    "version": 3
   },
   "file_extension": ".py",
   "mimetype": "text/x-python",
   "name": "python",
   "nbconvert_exporter": "python",
   "pygments_lexer": "ipython3",
   "version": "3.8.2"
  }
 },
 "nbformat": 4,
 "nbformat_minor": 4
}
